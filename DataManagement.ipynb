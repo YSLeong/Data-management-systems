{
 "cells": [
  {
   "cell_type": "markdown",
   "id": "14d42f9f",
   "metadata": {},
   "source": [
    "# TABLE OF CONTENTS\n",
    "\n",
    "## [Part 1: Creating databases, schemas and tables (Task 1)](#part-1--creating-databases-schemas-and-tables)\n",
    "* [Create database](#11-create-database---fcpgitdb)\n",
    "* [Create schema](#12-create-schema---fcp)\n",
    "* [Create tables - GitData](#13-create-table-based-on-gitdata)\n",
    "    * [Commit data](#131-create-a-table---fcpdbgitcommit-commit-data)\n",
    "    * [Files data](#132-create-table---fcpdbgitcommitfile-file-data)\n",
    "* [Creating tables - GitIssues](#14-create-table-based-on-gitissues)\n",
    "    * [Before comment ID](#141-create-table---fcpdbgitissue-before-commentid)\n",
    "    * [After comment ID](#142-create-table---fcpdbgitissuecommentafter-commentid)\n",
    "## [Part 2: Read, clean and load database (Task 2)](#part-2-read-clean-and-load-database)\n",
    "* [Reading GitData](#21-reading-gitdata)\n",
    "* [Cleaning and feature engineering (GitData)](#22-data-cleaning-and-feature-engineering-gitdata)\n",
    "    * [Cleaning datetime](#221-cleaning-datetime)\n",
    "    * [Adding timezone to datetime](#222-adding-a-timezone-to-datetime)\n",
    "    * [Converting into integer](#223-converting-some-columns-into-an-integer)\n",
    "* [Reading GitIssues](#23-reading-gitissues)\n",
    "* [Cleaning and feature engineering (GitIssues)](#24-data-cleaning-and-feature-engineering-gitissues)\n",
    "    * [Adding issue ID](#241-creating-issue-id)\n",
    "    * [Converting string to datetime](#242-converting-string-columns-into-datetime)\n",
    "* [Loading postgres table](#25-loading-postgres-table)\n",
    "    * [Git commit table](#251-gitcommit-table)\n",
    "    * [Git commit_file table](#252-gitcommitfile-table)\n",
    "    * [Git issue table](#253-gitissue-table)\n",
    "    * [Git issue_comment table](#254-gitissuecomment-table)\n",
    "## [Part 3: Descriptive insights (Task 2)](#part-3-descriptive-insights)\n",
    "* [Total commint count](#31-total-commit-count-by-project)\n",
    "* [Total number of files and lines of code](#32-total-number-of-files-and-number-of-lines-of-code)\n",
    "* [Number of author comparison](#33-number-of-author-comparison)\n",
    "* [Number of authors by region](#34-number-of-authors-based-on-region-timezone)\n",
    "* [Work hour distribution](#35-work-hour-distribution)\n",
    "    * [Based on author hour](#351-author-hour-distribution)\n",
    "    * [Based on committer hour](#352-committer-hour-distribution)\n",
    "* [Top Authors](#36-top-authors)\n",
    "    * [Based on lines of code (Pytorch)](#361-top-authors---number-of-lines-of-code-pytorch)\n",
    "    * [Based on lines of code (Tensorflow)](#362-top-authors---number-of-lines-of-code-tensorflow)\n",
    "* [File change type](#37-file-change-type)\n",
    "    * [Overview](#371-overview-of-file-changes-based-on-type-of-change)\n",
    "    * [Files added](#372-file-added-based-on-date)\n",
    "    * [Files modified](#373-files-modified-by-date)\n",
    "* [Issues](#38-issues)\n",
    "    * [Number of issues found](#381-number-of-issues-found-by-date)\n",
    "    * [Time taken to fix issues](#382-issues-fix-time)\n",
    "    * [Issues reported](#383-users-that-report-the-most-issues)\n",
    "    * [Issues closer](#384-users-that-close-the-most-issues)\n",
    "    * [Issues commenter](#385-top-issue-commenter)\n",
    "    * [Issue labels](#386-top-issue-labels)\n",
    "## [Part 4: Using Pyspark for analysis (Task 3)](#part-4-pyspark)\n",
    "* [Data preparation](#41-prepare-weekly-issue-aggregation)\n",
    "* [Model](#42-prepare-model-dataset)\n",
    "* [Feature vector](#43-generating-a-feature-vector)\n",
    "* [Linear regression model](#44-fitting-a-linear-regression-model)\n",
    "* [Prediction](#45-preparing-prediction-features)"
   ]
  },
  {
   "cell_type": "markdown",
   "id": "e4c6bda2",
   "metadata": {},
   "source": [
    "-----------------------------------------------------------------------------------------------------------------------------------------------------------------------------------------------------------------"
   ]
  },
  {
   "cell_type": "markdown",
   "id": "e5976059",
   "metadata": {},
   "source": [
    "## Importing packages and naming connection parameters"
   ]
  },
  {
   "cell_type": "code",
   "execution_count": 1,
   "id": "8c999363",
   "metadata": {},
   "outputs": [],
   "source": [
    "import pandas as pd\n",
    "import psycopg2\n",
    "\n",
    "pd.set_option(\"display.max_columns\",None)"
   ]
  },
  {
   "cell_type": "code",
   "execution_count": 2,
   "id": "04f0ca9d",
   "metadata": {
    "scrolled": true
   },
   "outputs": [],
   "source": [
    "# Connection params\n",
    "dbname = \"postgres\"\n",
    "user = \"postgres\"\n",
    "password = \"password\"\n",
    "host = \"localhost\"\n",
    "port = \"5432\""
   ]
  },
  {
   "cell_type": "markdown",
   "id": "9d76e7b2",
   "metadata": {},
   "source": [
    "# Part 1 : Creating databases, schemas and tables\n",
    "#### *Task 1 of the assignment*\n",
    "###### [Back to TOC](#table-of-contents)"
   ]
  },
  {
   "cell_type": "markdown",
   "id": "4ef92f2b",
   "metadata": {},
   "source": [
    "## 1.1: Create database - fcp_gitdb"
   ]
  },
  {
   "cell_type": "code",
   "execution_count": 3,
   "id": "9e44f249",
   "metadata": {},
   "outputs": [
    {
     "name": "stdout",
     "output_type": "stream",
     "text": [
      "CREATE DATABASE\n"
     ]
    }
   ],
   "source": [
    "# CREATE DATABASE\n",
    "try:\n",
    "    connection = psycopg2.connect(dbname=dbname,\n",
    "                            user=user,\n",
    "                            password=password,\n",
    "                            host=host,\n",
    "                            port=port)\n",
    "\n",
    "    # Set autocommit\n",
    "    connection.autocommit = True\n",
    "    cursor = connection.cursor()\n",
    "\n",
    "    # Create a new database\n",
    "    cursor.execute(\"CREATE DATABASE fcp_gitdb;\")\n",
    "    print(cursor.statusmessage)\n",
    "\n",
    "\n",
    "except psycopg2.Error as error:\n",
    "    print(\"Warning!\", error)\n",
    "\n",
    "finally:\n",
    "        if connection is not None:\n",
    "            cursor.close()\n",
    "            connection.close()"
   ]
  },
  {
   "cell_type": "markdown",
   "id": "cfc3e108",
   "metadata": {},
   "source": [
    "## 1.2: Create schema - fcp"
   ]
  },
  {
   "cell_type": "code",
   "execution_count": 4,
   "id": "94c323e3",
   "metadata": {},
   "outputs": [
    {
     "name": "stdout",
     "output_type": "stream",
     "text": [
      "CREATE SCHEMA \n",
      "\n"
     ]
    }
   ],
   "source": [
    "# Set the new db\n",
    "dbname = 'fcp_gitdb'\n",
    "\n",
    "# Connect to fcp_gitdb and perform some tasks\n",
    "try:\n",
    "    connection = psycopg2.connect(dbname=dbname,\n",
    "                            user=user,\n",
    "                            password=password,\n",
    "                            host=host,\n",
    "                            port=port)\n",
    "    cursor = connection.cursor()\n",
    "\n",
    "    # Create a schema\n",
    "    cursor.execute(\"CREATE SCHEMA fcp;\")\n",
    "\n",
    "    print(cursor.statusmessage, '\\n')\n",
    "    \n",
    "    connection.commit()\n",
    "\n",
    "except psycopg2.Error as error:\n",
    "    print(\"Warning!\", error)\n",
    "    \n",
    "finally:\n",
    "        if connection is not None:\n",
    "            cursor.close()\n",
    "            connection.close()"
   ]
  },
  {
   "cell_type": "markdown",
   "id": "d4ee4820",
   "metadata": {},
   "source": [
    "## 1.3: Create table (based on GitData)\n",
    "\n",
    "##### gitData: In this csv file, two tables can be divided:\n",
    "    1. commit data\n",
    "    2. files data\n",
    "##### Look carefully at the data:\n",
    "Before the files field, all of which are about commit-related data. A commit may involve multiple files, so when the same commit involves multiple files, the content of the fields before the files is repeated, hence it is more appropriate to build a separate table to prevent overlap.\n",
    "\n",
    "Then the fields before files can use the hash field as the primary key, but the fields after it have no primary key, we give each file a unique id as the primary key"
   ]
  },
  {
   "cell_type": "markdown",
   "id": "9a7c0f5d",
   "metadata": {},
   "source": [
    "## 1.3.1 Create a table - fcp_db.git_commit (commit data)"
   ]
  },
  {
   "cell_type": "code",
   "execution_count": 5,
   "id": "7eabcd9f",
   "metadata": {},
   "outputs": [
    {
     "name": "stdout",
     "output_type": "stream",
     "text": [
      "CREATE TABLE \n",
      "\n"
     ]
    }
   ],
   "source": [
    "\n",
    "# Connect to fcp_db and perform some tasks\n",
    "try:\n",
    "    connection = psycopg2.connect(dbname=dbname,\n",
    "                            user=user,\n",
    "                            password=password,\n",
    "                            host=host,\n",
    "                            port=port)\n",
    "    cursor = connection.cursor()\n",
    "\n",
    "    # Create a table storing git_commit info\n",
    "    cursor.execute(\"\"\"\n",
    "        CREATE TABLE fcp.git_commit (\n",
    "            hash char(40) primary key, \n",
    "            msg  text,\n",
    "            author_name  varchar(255),\n",
    "            committer_name varchar(255),\n",
    "            author_date timestamp,\n",
    "            author_timezone integer,\n",
    "            committer_date timestamp,\n",
    "            committer_timezone integer,\n",
    "            branches varchar(15),\n",
    "            in_main_branch boolean,\n",
    "            merge boolean,\n",
    "            parents char(40),\n",
    "            project_name varchar(10),\n",
    "            deletions integer,\n",
    "            insertions integer,\n",
    "            lines integer,    \n",
    "            files integer\n",
    "        );\n",
    "    \"\"\")\n",
    "\n",
    "    print(cursor.statusmessage, '\\n')\n",
    "    connection.commit()\n",
    "\n",
    "except psycopg2.Error as error:\n",
    "    print(\"Warning!\", error)\n",
    "    \n",
    "finally:\n",
    "        if connection is not None:\n",
    "            cursor.close()\n",
    "            connection.close()"
   ]
  },
  {
   "cell_type": "markdown",
   "id": "bfae3ec4",
   "metadata": {},
   "source": [
    "## 1.3.2: Create table - fcp_db.git_commit_file (file data)"
   ]
  },
  {
   "cell_type": "code",
   "execution_count": 6,
   "id": "57f3f216",
   "metadata": {},
   "outputs": [
    {
     "name": "stdout",
     "output_type": "stream",
     "text": [
      "CREATE TABLE \n",
      "\n"
     ]
    }
   ],
   "source": [
    "\n",
    "# Connect to fcp_db and perform some tasks\n",
    "try:\n",
    "    connection = psycopg2.connect(dbname=dbname,\n",
    "                            user=user,\n",
    "                            password=password,\n",
    "                            host=host,\n",
    "                            port=port)\n",
    "    cursor = connection.cursor()\n",
    "\n",
    "    # Create a table storing git_commit info\n",
    "    cursor.execute(\"\"\"\n",
    "        CREATE TABLE fcp.git_commit_file (\n",
    "            file_id integer primary key, \n",
    "            hash char(40),\n",
    "            old_path  text,\n",
    "            new_path  text,\n",
    "            filename  text,            \n",
    "            change_type  varchar(15),            \n",
    "            diff text,\n",
    "            diff_parsed text,\n",
    "            deleted_lines integer,\n",
    "            source_code text,\n",
    "            source_code_before text,            \n",
    "            nloc integer,\n",
    "            complexity integer,\n",
    "            token_count integer, \n",
    "            constraint fk_git_commit_file_hash foreign key(hash)  references fcp.git_commit(hash)\n",
    "        );\n",
    "    \"\"\")\n",
    "\n",
    "    print(cursor.statusmessage, '\\n')\n",
    "    connection.commit()\n",
    "\n",
    "except psycopg2.Error as error:\n",
    "    print(\"Warning!\", error)\n",
    "    \n",
    "finally:\n",
    "        if connection is not None:\n",
    "            cursor.close()\n",
    "            connection.close()"
   ]
  },
  {
   "cell_type": "markdown",
   "id": "97c7e9fb",
   "metadata": {},
   "source": [
    "## 1.4: Create table (based on gitIssues)\n",
    "\n",
    "##### Likewise, the data in the \"Git-Issues\" files can also be divided into 2 parts:\n",
    "    1. The section before comment_id, which is a description of the issue.\n",
    "    2. The section after comment_id, which is an annotation/comment on the issue, an issue can have multiple annotations/comments\n",
    "    \n",
    " The information before comment_id, has no unique identifiers, we can use \"title\" and the \"create_at\" time to create a unique identifier for issue id as the primary key. The information after comment_id, references to comment_id as the primary key."
   ]
  },
  {
   "cell_type": "markdown",
   "id": "9114aea8",
   "metadata": {},
   "source": [
    "## 1.4.1: Create table - fcp_db.git_issue (before comment_id)"
   ]
  },
  {
   "cell_type": "code",
   "execution_count": 7,
   "id": "aeb32e7e",
   "metadata": {},
   "outputs": [
    {
     "name": "stdout",
     "output_type": "stream",
     "text": [
      "CREATE TABLE \n",
      "\n"
     ]
    }
   ],
   "source": [
    "\n",
    "# Connect to fcp_db and perform some tasks\n",
    "try:\n",
    "    connection = psycopg2.connect(dbname=dbname,\n",
    "                            user=user,\n",
    "                            password=password,\n",
    "                            host=host,\n",
    "                            port=port)\n",
    "    cursor = connection.cursor()\n",
    "\n",
    "    # Create a table storing git_issue\n",
    "    cursor.execute(\"\"\"\n",
    "        CREATE TABLE fcp.git_issue (\n",
    "            issue_id integer primary key, \n",
    "            title text,\n",
    "            state  varchar(10),\n",
    "            body  text,\n",
    "            \"user\"  varchar(50),  \n",
    "            user_id  varchar(50),              \n",
    "            created_at  timestamp ,\n",
    "            updated_at  timestamp ,    \n",
    "            closed_at  timestamp ,                \n",
    "            assignees text,\n",
    "            labels text,\n",
    "            reactions text,\n",
    "            n_comments integer,\n",
    "            closed_by varchar(50),  \n",
    "            project varchar(10)\n",
    "        );\n",
    "    \"\"\")\n",
    "\n",
    "    print(cursor.statusmessage, '\\n')\n",
    "    connection.commit()\n",
    "\n",
    "except psycopg2.Error as error:\n",
    "    print(\"Warning!\", error)\n",
    "    \n",
    "finally:\n",
    "        if connection is not None:\n",
    "            cursor.close()\n",
    "            connection.close()"
   ]
  },
  {
   "cell_type": "markdown",
   "id": "8b643304",
   "metadata": {},
   "source": [
    "## 1.4.2: Create table - fcp_db.git_issue_comment(after comment_id)"
   ]
  },
  {
   "cell_type": "code",
   "execution_count": 8,
   "id": "66689e11",
   "metadata": {},
   "outputs": [
    {
     "name": "stdout",
     "output_type": "stream",
     "text": [
      "CREATE TABLE \n",
      "\n"
     ]
    }
   ],
   "source": [
    "\n",
    "# Connect to fcp_db and perform some tasks\n",
    "try:\n",
    "    connection = psycopg2.connect(dbname=dbname,\n",
    "                            user=user,\n",
    "                            password=password,\n",
    "                            host=host,\n",
    "                            port=port)\n",
    "    cursor = connection.cursor()\n",
    "\n",
    "    # Create a table storing git_issue_comment\n",
    "    cursor.execute(\"\"\"\n",
    "        CREATE TABLE fcp.git_issue_comment (\n",
    "            comment_id int primary key,\n",
    "            issue_id integer, \n",
    "            comment_created_at  timestamp ,\n",
    "            comment_updated_at timestamp ,\n",
    "            comment_user_id varchar(50),  \n",
    "            comment_user varchar(50),  \n",
    "            comment_text text,\n",
    "            constraint fk_git_issue_comment_issueid foreign key(issue_id)  references fcp.git_issue(issue_id)\n",
    "        );\n",
    "    \"\"\")\n",
    "\n",
    "    print(cursor.statusmessage, '\\n')\n",
    "    connection.commit()\n",
    "\n",
    "except psycopg2.Error as error:\n",
    "    print(\"Warning!\", error)\n",
    "    \n",
    "finally:\n",
    "        if connection is not None:\n",
    "            cursor.close()\n",
    "            connection.close()"
   ]
  },
  {
   "cell_type": "markdown",
   "id": "0fa985db",
   "metadata": {},
   "source": [
    "# Part 2: Read, Clean and Load Database\n",
    "#### *Task 1 of the assignment*\n",
    "###### [Back to TOC](#table-of-contents)"
   ]
  },
  {
   "cell_type": "markdown",
   "id": "88dd154f",
   "metadata": {},
   "source": [
    "## 2.1: Reading GitData"
   ]
  },
  {
   "cell_type": "code",
   "execution_count": 9,
   "id": "81b1b7aa",
   "metadata": {
    "scrolled": false
   },
   "outputs": [],
   "source": [
    "df_gitdata=pd.read_csv(\"data/gitData.csv\",low_memory=False,index_col=[0])\n",
    "\n",
    "# drop duplicated records\n",
    "df_gitdata=df_gitdata.drop_duplicates()\n",
    "\n",
    "# generate a file id\n",
    "df_gitdata=df_gitdata.reset_index(drop=True)\n",
    "df_gitdata[\"file_id\"]=df_gitdata.index\n",
    "\n",
    "# df_gitdata.head()"
   ]
  },
  {
   "cell_type": "markdown",
   "id": "7588c729",
   "metadata": {},
   "source": [
    "## 2.2: Data cleaning and feature engineering (GitData)"
   ]
  },
  {
   "cell_type": "markdown",
   "id": "f690554d",
   "metadata": {},
   "source": [
    "### 2.2.1: Cleaning datetime"
   ]
  },
  {
   "cell_type": "code",
   "execution_count": 10,
   "id": "9c97a202",
   "metadata": {},
   "outputs": [],
   "source": [
    "# define function to clean datetime\n",
    "\n",
    "def conver_seconds_to_tz(s):\n",
    "    pos_neg='+' if s>=0 else '-'    \n",
    "    tz=\"{}{}\".format(pos_neg,str(int(abs(s)/3600)).zfill(2))    \n",
    "    \n",
    "    return tz\n",
    "\n",
    "def gen_datetime_tz(dt,s):\n",
    "    tz=conver_seconds_to_tz(s)\n",
    "    return pd.to_datetime(\"{}{}\".format(dt, tz))\n"
   ]
  },
  {
   "cell_type": "markdown",
   "id": "3e3f4e5e",
   "metadata": {},
   "source": [
    "### 2.2.2: Adding a timezone to datetime"
   ]
  },
  {
   "cell_type": "code",
   "execution_count": 11,
   "id": "87e0315f",
   "metadata": {},
   "outputs": [],
   "source": [
    "# add timezone to datetime\n",
    "\n",
    "# df_gitdata[\"author_date\"]=df_gitdata.apply(lambda row: gen_datetime_tz(row[\"author_date\"], row[\"author_timezone\"]),axis=1)\n",
    "# df_gitdata[\"committer_date\"]=df_gitdata.apply(lambda row: gen_datetime_tz(row[\"committer_date\"], row[\"committer_timezone\"]),axis=1)\n",
    "\n",
    "df_gitdata[\"author_date\"]=pd.to_datetime(df_gitdata[\"author_date\"])\n",
    "df_gitdata[\"committer_date\"]=pd.to_datetime(df_gitdata[\"committer_date\"])\n",
    "\n",
    "# clean parents\n",
    "df_gitdata[\"parents\"]=df_gitdata[\"parents\"].map(lambda x: eval(x)[0] if len(eval(x))==1 else '')\n",
    "\n",
    "# clean branches\n",
    "df_gitdata[\"branches\"]=df_gitdata[\"branches\"].map(lambda x: eval(x)[0] )"
   ]
  },
  {
   "cell_type": "markdown",
   "id": "f7b4be6a",
   "metadata": {},
   "source": [
    "### 2.2.3: Converting some columns into an integer"
   ]
  },
  {
   "cell_type": "code",
   "execution_count": 12,
   "id": "b6447447",
   "metadata": {},
   "outputs": [],
   "source": [
    "# convert to integer\n",
    "\n",
    "df_gitdata['nloc']=df_gitdata['nloc'].fillna(0).astype(int)\n",
    "df_gitdata['complexity']=df_gitdata['complexity'].fillna(0).astype(int)\n",
    "df_gitdata['token_count']=df_gitdata['token_count'].fillna(0).astype(int)\n",
    "df_gitdata['file_id']=df_gitdata['file_id'].fillna(0).astype(int)\n",
    "df_gitdata['deleted_lines']=df_gitdata['deleted_lines'].fillna(0).astype(int)"
   ]
  },
  {
   "cell_type": "code",
   "execution_count": 13,
   "id": "0e4ed1a2",
   "metadata": {},
   "outputs": [
    {
     "data": {
      "text/html": [
       "<div>\n",
       "<style scoped>\n",
       "    .dataframe tbody tr th:only-of-type {\n",
       "        vertical-align: middle;\n",
       "    }\n",
       "\n",
       "    .dataframe tbody tr th {\n",
       "        vertical-align: top;\n",
       "    }\n",
       "\n",
       "    .dataframe thead th {\n",
       "        text-align: right;\n",
       "    }\n",
       "</style>\n",
       "<table border=\"1\" class=\"dataframe\">\n",
       "  <thead>\n",
       "    <tr style=\"text-align: right;\">\n",
       "      <th></th>\n",
       "      <th>hash</th>\n",
       "      <th>msg</th>\n",
       "      <th>author_name</th>\n",
       "      <th>committer_name</th>\n",
       "      <th>author_date</th>\n",
       "      <th>author_timezone</th>\n",
       "      <th>committer_date</th>\n",
       "      <th>committer_timezone</th>\n",
       "      <th>branches</th>\n",
       "      <th>in_main_branch</th>\n",
       "      <th>merge</th>\n",
       "      <th>parents</th>\n",
       "      <th>project_name</th>\n",
       "      <th>deletions</th>\n",
       "      <th>insertions</th>\n",
       "      <th>lines</th>\n",
       "      <th>files</th>\n",
       "      <th>old_path</th>\n",
       "      <th>new_path</th>\n",
       "      <th>filename</th>\n",
       "      <th>change_type</th>\n",
       "      <th>diff</th>\n",
       "      <th>diff_parsed</th>\n",
       "      <th>deleted_lines</th>\n",
       "      <th>source_code</th>\n",
       "      <th>source_code_before</th>\n",
       "      <th>nloc</th>\n",
       "      <th>complexity</th>\n",
       "      <th>token_count</th>\n",
       "      <th>file_id</th>\n",
       "    </tr>\n",
       "  </thead>\n",
       "  <tbody>\n",
       "    <tr>\n",
       "      <th>0</th>\n",
       "      <td>e318058ffe662d426617a405fb21e6470dfc1219</td>\n",
       "      <td>Ignore LNK4099 for debug binary libtorch build...</td>\n",
       "      <td>Jane Xu</td>\n",
       "      <td>Facebook GitHub Bot</td>\n",
       "      <td>2021-07-23 16:27:24</td>\n",
       "      <td>25200</td>\n",
       "      <td>2021-07-23 16:31:41</td>\n",
       "      <td>25200</td>\n",
       "      <td>master</td>\n",
       "      <td>True</td>\n",
       "      <td>False</td>\n",
       "      <td>04c95a063857851fe15956baf80e6b30bc8b3dad</td>\n",
       "      <td>pytorch</td>\n",
       "      <td>3</td>\n",
       "      <td>3</td>\n",
       "      <td>6</td>\n",
       "      <td>2</td>\n",
       "      <td>CMakeLists.txt</td>\n",
       "      <td>CMakeLists.txt</td>\n",
       "      <td>CMakeLists.txt</td>\n",
       "      <td>MODIFY</td>\n",
       "      <td>@@ -485,7 +485,7 @@ if(MSVC)\\n   foreach(flag_...</td>\n",
       "      <td>{'added': [[488, '    string(APPEND ${flag_var...</td>\n",
       "      <td>1</td>\n",
       "      <td>cmake_minimum_required(VERSION 3.5 FATAL_ERROR...</td>\n",
       "      <td>cmake_minimum_required(VERSION 3.5 FATAL_ERROR...</td>\n",
       "      <td>0</td>\n",
       "      <td>0</td>\n",
       "      <td>0</td>\n",
       "      <td>0</td>\n",
       "    </tr>\n",
       "    <tr>\n",
       "      <th>1</th>\n",
       "      <td>e318058ffe662d426617a405fb21e6470dfc1219</td>\n",
       "      <td>Ignore LNK4099 for debug binary libtorch build...</td>\n",
       "      <td>Jane Xu</td>\n",
       "      <td>Facebook GitHub Bot</td>\n",
       "      <td>2021-07-23 16:27:24</td>\n",
       "      <td>25200</td>\n",
       "      <td>2021-07-23 16:31:41</td>\n",
       "      <td>25200</td>\n",
       "      <td>master</td>\n",
       "      <td>True</td>\n",
       "      <td>False</td>\n",
       "      <td>04c95a063857851fe15956baf80e6b30bc8b3dad</td>\n",
       "      <td>pytorch</td>\n",
       "      <td>3</td>\n",
       "      <td>3</td>\n",
       "      <td>6</td>\n",
       "      <td>2</td>\n",
       "      <td>cmake/MiscCheck.cmake</td>\n",
       "      <td>cmake/MiscCheck.cmake</td>\n",
       "      <td>MiscCheck.cmake</td>\n",
       "      <td>MODIFY</td>\n",
       "      <td>@@ -258,9 +258,9 @@ if(${CMAKE_CXX_COMPILER_ID...</td>\n",
       "      <td>{'added': [[261, '      \"${CMAKE_SHARED_LINKER...</td>\n",
       "      <td>2</td>\n",
       "      <td>if(UNIX)\\n  # prevent Unknown CMake command \"c...</td>\n",
       "      <td>if(UNIX)\\n  # prevent Unknown CMake command \"c...</td>\n",
       "      <td>0</td>\n",
       "      <td>0</td>\n",
       "      <td>0</td>\n",
       "      <td>1</td>\n",
       "    </tr>\n",
       "  </tbody>\n",
       "</table>\n",
       "</div>"
      ],
      "text/plain": [
       "                                       hash  \\\n",
       "0  e318058ffe662d426617a405fb21e6470dfc1219   \n",
       "1  e318058ffe662d426617a405fb21e6470dfc1219   \n",
       "\n",
       "                                                 msg author_name  \\\n",
       "0  Ignore LNK4099 for debug binary libtorch build...     Jane Xu   \n",
       "1  Ignore LNK4099 for debug binary libtorch build...     Jane Xu   \n",
       "\n",
       "        committer_name         author_date  author_timezone  \\\n",
       "0  Facebook GitHub Bot 2021-07-23 16:27:24            25200   \n",
       "1  Facebook GitHub Bot 2021-07-23 16:27:24            25200   \n",
       "\n",
       "       committer_date  committer_timezone branches  in_main_branch  merge  \\\n",
       "0 2021-07-23 16:31:41               25200   master            True  False   \n",
       "1 2021-07-23 16:31:41               25200   master            True  False   \n",
       "\n",
       "                                    parents project_name  deletions  \\\n",
       "0  04c95a063857851fe15956baf80e6b30bc8b3dad      pytorch          3   \n",
       "1  04c95a063857851fe15956baf80e6b30bc8b3dad      pytorch          3   \n",
       "\n",
       "   insertions  lines  files               old_path               new_path  \\\n",
       "0           3      6      2         CMakeLists.txt         CMakeLists.txt   \n",
       "1           3      6      2  cmake/MiscCheck.cmake  cmake/MiscCheck.cmake   \n",
       "\n",
       "          filename change_type  \\\n",
       "0   CMakeLists.txt      MODIFY   \n",
       "1  MiscCheck.cmake      MODIFY   \n",
       "\n",
       "                                                diff  \\\n",
       "0  @@ -485,7 +485,7 @@ if(MSVC)\\n   foreach(flag_...   \n",
       "1  @@ -258,9 +258,9 @@ if(${CMAKE_CXX_COMPILER_ID...   \n",
       "\n",
       "                                         diff_parsed  deleted_lines  \\\n",
       "0  {'added': [[488, '    string(APPEND ${flag_var...              1   \n",
       "1  {'added': [[261, '      \"${CMAKE_SHARED_LINKER...              2   \n",
       "\n",
       "                                         source_code  \\\n",
       "0  cmake_minimum_required(VERSION 3.5 FATAL_ERROR...   \n",
       "1  if(UNIX)\\n  # prevent Unknown CMake command \"c...   \n",
       "\n",
       "                                  source_code_before  nloc  complexity  \\\n",
       "0  cmake_minimum_required(VERSION 3.5 FATAL_ERROR...     0           0   \n",
       "1  if(UNIX)\\n  # prevent Unknown CMake command \"c...     0           0   \n",
       "\n",
       "   token_count  file_id  \n",
       "0            0        0  \n",
       "1            0        1  "
      ]
     },
     "execution_count": 13,
     "metadata": {},
     "output_type": "execute_result"
    }
   ],
   "source": [
    "df_gitdata.head(2)"
   ]
  },
  {
   "cell_type": "markdown",
   "id": "1bc26a61",
   "metadata": {},
   "source": [
    "## 2.3: Reading GitIssues"
   ]
  },
  {
   "cell_type": "code",
   "execution_count": 14,
   "id": "6dace6d8",
   "metadata": {},
   "outputs": [
    {
     "data": {
      "text/html": [
       "<div>\n",
       "<style scoped>\n",
       "    .dataframe tbody tr th:only-of-type {\n",
       "        vertical-align: middle;\n",
       "    }\n",
       "\n",
       "    .dataframe tbody tr th {\n",
       "        vertical-align: top;\n",
       "    }\n",
       "\n",
       "    .dataframe thead th {\n",
       "        text-align: right;\n",
       "    }\n",
       "</style>\n",
       "<table border=\"1\" class=\"dataframe\">\n",
       "  <thead>\n",
       "    <tr style=\"text-align: right;\">\n",
       "      <th></th>\n",
       "      <th>title</th>\n",
       "      <th>state</th>\n",
       "      <th>body</th>\n",
       "      <th>user</th>\n",
       "      <th>user_id</th>\n",
       "      <th>repository</th>\n",
       "      <th>created_at</th>\n",
       "      <th>updated_at</th>\n",
       "      <th>closed_at</th>\n",
       "      <th>assignees</th>\n",
       "      <th>labels</th>\n",
       "      <th>reactions</th>\n",
       "      <th>n_comments</th>\n",
       "      <th>closed_by</th>\n",
       "      <th>comment_id</th>\n",
       "      <th>comment_created_at</th>\n",
       "      <th>comment_updated_at</th>\n",
       "      <th>comment_user_id</th>\n",
       "      <th>comment_user</th>\n",
       "      <th>comment_text</th>\n",
       "      <th>project</th>\n",
       "    </tr>\n",
       "  </thead>\n",
       "  <tbody>\n",
       "    <tr>\n",
       "      <th>0</th>\n",
       "      <td>Feature Request: Add Pixel Unshuffle</td>\n",
       "      <td>closed</td>\n",
       "      <td>I would like to propose the addition of an inv...</td>\n",
       "      <td>hinthornw</td>\n",
       "      <td>MDQ6VXNlcjEzMzMzNzI2</td>\n",
       "      <td>NaN</td>\n",
       "      <td>2017-08-16 05:09:55</td>\n",
       "      <td>2021-01-14 00:03:06</td>\n",
       "      <td>2021-01-11 04:38:15</td>\n",
       "      <td>[]</td>\n",
       "      <td>['module: nn', 'triaged', 'module: vision', 'f...</td>\n",
       "      <td>['+1', '+1', '+1', '+1', '+1', '+1', '+1', '+1...</td>\n",
       "      <td>11</td>\n",
       "      <td>Mike Ruberry</td>\n",
       "      <td>326121859</td>\n",
       "      <td>2017-08-30 21:17:02</td>\n",
       "      <td>2017-08-30 21:17:02</td>\n",
       "      <td>MDQ6VXNlcjEzMTA1NzA=</td>\n",
       "      <td>soumith</td>\n",
       "      <td>@alykhantejani (as the man behind PixelShuffle...</td>\n",
       "      <td>pytorch</td>\n",
       "    </tr>\n",
       "    <tr>\n",
       "      <th>1</th>\n",
       "      <td>Feature Request: Add Pixel Unshuffle</td>\n",
       "      <td>closed</td>\n",
       "      <td>I would like to propose the addition of an inv...</td>\n",
       "      <td>hinthornw</td>\n",
       "      <td>MDQ6VXNlcjEzMzMzNzI2</td>\n",
       "      <td>NaN</td>\n",
       "      <td>2017-08-16 05:09:55</td>\n",
       "      <td>2021-01-14 00:03:06</td>\n",
       "      <td>2021-01-11 04:38:15</td>\n",
       "      <td>[]</td>\n",
       "      <td>['module: nn', 'triaged', 'module: vision', 'f...</td>\n",
       "      <td>['+1', '+1', '+1', '+1', '+1', '+1', '+1', '+1...</td>\n",
       "      <td>11</td>\n",
       "      <td>Mike Ruberry</td>\n",
       "      <td>326360939</td>\n",
       "      <td>2017-08-31 17:07:44</td>\n",
       "      <td>2017-08-31 17:07:44</td>\n",
       "      <td>MDQ6VXNlcjY4NzE5NA==</td>\n",
       "      <td>alykhantejani</td>\n",
       "      <td>@hinthornw This sounds like something for a py...</td>\n",
       "      <td>pytorch</td>\n",
       "    </tr>\n",
       "  </tbody>\n",
       "</table>\n",
       "</div>"
      ],
      "text/plain": [
       "                                  title   state  \\\n",
       "0  Feature Request: Add Pixel Unshuffle  closed   \n",
       "1  Feature Request: Add Pixel Unshuffle  closed   \n",
       "\n",
       "                                                body       user  \\\n",
       "0  I would like to propose the addition of an inv...  hinthornw   \n",
       "1  I would like to propose the addition of an inv...  hinthornw   \n",
       "\n",
       "                user_id  repository           created_at           updated_at  \\\n",
       "0  MDQ6VXNlcjEzMzMzNzI2         NaN  2017-08-16 05:09:55  2021-01-14 00:03:06   \n",
       "1  MDQ6VXNlcjEzMzMzNzI2         NaN  2017-08-16 05:09:55  2021-01-14 00:03:06   \n",
       "\n",
       "             closed_at assignees  \\\n",
       "0  2021-01-11 04:38:15        []   \n",
       "1  2021-01-11 04:38:15        []   \n",
       "\n",
       "                                              labels  \\\n",
       "0  ['module: nn', 'triaged', 'module: vision', 'f...   \n",
       "1  ['module: nn', 'triaged', 'module: vision', 'f...   \n",
       "\n",
       "                                           reactions  n_comments  \\\n",
       "0  ['+1', '+1', '+1', '+1', '+1', '+1', '+1', '+1...          11   \n",
       "1  ['+1', '+1', '+1', '+1', '+1', '+1', '+1', '+1...          11   \n",
       "\n",
       "      closed_by  comment_id   comment_created_at   comment_updated_at  \\\n",
       "0  Mike Ruberry   326121859  2017-08-30 21:17:02  2017-08-30 21:17:02   \n",
       "1  Mike Ruberry   326360939  2017-08-31 17:07:44  2017-08-31 17:07:44   \n",
       "\n",
       "        comment_user_id   comment_user  \\\n",
       "0  MDQ6VXNlcjEzMTA1NzA=        soumith   \n",
       "1  MDQ6VXNlcjY4NzE5NA==  alykhantejani   \n",
       "\n",
       "                                        comment_text  project  \n",
       "0  @alykhantejani (as the man behind PixelShuffle...  pytorch  \n",
       "1  @hinthornw This sounds like something for a py...  pytorch  "
      ]
     },
     "execution_count": 14,
     "metadata": {},
     "output_type": "execute_result"
    }
   ],
   "source": [
    "df_gitIssues=pd.read_csv(\"data/gitIssues.csv\",low_memory=False,index_col=[0])\n",
    "df_gitIssues.head(2)"
   ]
  },
  {
   "cell_type": "markdown",
   "id": "627c9afd",
   "metadata": {},
   "source": [
    "## 2.4: Data cleaning and feature engineering (GitIssues)"
   ]
  },
  {
   "cell_type": "markdown",
   "id": "20d8914f",
   "metadata": {},
   "source": [
    "### 2.4.1: Creating issue ID"
   ]
  },
  {
   "cell_type": "code",
   "execution_count": 16,
   "id": "6e00b448",
   "metadata": {},
   "outputs": [
    {
     "data": {
      "text/html": [
       "<div>\n",
       "<style scoped>\n",
       "    .dataframe tbody tr th:only-of-type {\n",
       "        vertical-align: middle;\n",
       "    }\n",
       "\n",
       "    .dataframe tbody tr th {\n",
       "        vertical-align: top;\n",
       "    }\n",
       "\n",
       "    .dataframe thead th {\n",
       "        text-align: right;\n",
       "    }\n",
       "</style>\n",
       "<table border=\"1\" class=\"dataframe\">\n",
       "  <thead>\n",
       "    <tr style=\"text-align: right;\">\n",
       "      <th></th>\n",
       "      <th>title</th>\n",
       "      <th>state</th>\n",
       "      <th>body</th>\n",
       "      <th>user</th>\n",
       "      <th>user_id</th>\n",
       "      <th>repository</th>\n",
       "      <th>created_at</th>\n",
       "      <th>updated_at</th>\n",
       "      <th>closed_at</th>\n",
       "      <th>assignees</th>\n",
       "      <th>labels</th>\n",
       "      <th>reactions</th>\n",
       "      <th>n_comments</th>\n",
       "      <th>closed_by</th>\n",
       "      <th>comment_id</th>\n",
       "      <th>comment_created_at</th>\n",
       "      <th>comment_updated_at</th>\n",
       "      <th>comment_user_id</th>\n",
       "      <th>comment_user</th>\n",
       "      <th>comment_text</th>\n",
       "      <th>project</th>\n",
       "      <th>issue_id</th>\n",
       "    </tr>\n",
       "  </thead>\n",
       "  <tbody>\n",
       "    <tr>\n",
       "      <th>0</th>\n",
       "      <td>Feature Request: Add Pixel Unshuffle</td>\n",
       "      <td>closed</td>\n",
       "      <td>I would like to propose the addition of an inv...</td>\n",
       "      <td>hinthornw</td>\n",
       "      <td>MDQ6VXNlcjEzMzMzNzI2</td>\n",
       "      <td>NaN</td>\n",
       "      <td>2017-08-16 05:09:55</td>\n",
       "      <td>2021-01-14 00:03:06</td>\n",
       "      <td>2021-01-11 04:38:15</td>\n",
       "      <td>[]</td>\n",
       "      <td>['module: nn', 'triaged', 'module: vision', 'f...</td>\n",
       "      <td>['+1', '+1', '+1', '+1', '+1', '+1', '+1', '+1...</td>\n",
       "      <td>11</td>\n",
       "      <td>Mike Ruberry</td>\n",
       "      <td>326121859</td>\n",
       "      <td>2017-08-30 21:17:02</td>\n",
       "      <td>2017-08-30 21:17:02</td>\n",
       "      <td>MDQ6VXNlcjEzMTA1NzA=</td>\n",
       "      <td>soumith</td>\n",
       "      <td>@alykhantejani (as the man behind PixelShuffle...</td>\n",
       "      <td>pytorch</td>\n",
       "      <td>0</td>\n",
       "    </tr>\n",
       "    <tr>\n",
       "      <th>1</th>\n",
       "      <td>Feature Request: Add Pixel Unshuffle</td>\n",
       "      <td>closed</td>\n",
       "      <td>I would like to propose the addition of an inv...</td>\n",
       "      <td>hinthornw</td>\n",
       "      <td>MDQ6VXNlcjEzMzMzNzI2</td>\n",
       "      <td>NaN</td>\n",
       "      <td>2017-08-16 05:09:55</td>\n",
       "      <td>2021-01-14 00:03:06</td>\n",
       "      <td>2021-01-11 04:38:15</td>\n",
       "      <td>[]</td>\n",
       "      <td>['module: nn', 'triaged', 'module: vision', 'f...</td>\n",
       "      <td>['+1', '+1', '+1', '+1', '+1', '+1', '+1', '+1...</td>\n",
       "      <td>11</td>\n",
       "      <td>Mike Ruberry</td>\n",
       "      <td>326360939</td>\n",
       "      <td>2017-08-31 17:07:44</td>\n",
       "      <td>2017-08-31 17:07:44</td>\n",
       "      <td>MDQ6VXNlcjY4NzE5NA==</td>\n",
       "      <td>alykhantejani</td>\n",
       "      <td>@hinthornw This sounds like something for a py...</td>\n",
       "      <td>pytorch</td>\n",
       "      <td>0</td>\n",
       "    </tr>\n",
       "  </tbody>\n",
       "</table>\n",
       "</div>"
      ],
      "text/plain": [
       "                                  title   state  \\\n",
       "0  Feature Request: Add Pixel Unshuffle  closed   \n",
       "1  Feature Request: Add Pixel Unshuffle  closed   \n",
       "\n",
       "                                                body       user  \\\n",
       "0  I would like to propose the addition of an inv...  hinthornw   \n",
       "1  I would like to propose the addition of an inv...  hinthornw   \n",
       "\n",
       "                user_id  repository           created_at           updated_at  \\\n",
       "0  MDQ6VXNlcjEzMzMzNzI2         NaN  2017-08-16 05:09:55  2021-01-14 00:03:06   \n",
       "1  MDQ6VXNlcjEzMzMzNzI2         NaN  2017-08-16 05:09:55  2021-01-14 00:03:06   \n",
       "\n",
       "             closed_at assignees  \\\n",
       "0  2021-01-11 04:38:15        []   \n",
       "1  2021-01-11 04:38:15        []   \n",
       "\n",
       "                                              labels  \\\n",
       "0  ['module: nn', 'triaged', 'module: vision', 'f...   \n",
       "1  ['module: nn', 'triaged', 'module: vision', 'f...   \n",
       "\n",
       "                                           reactions  n_comments  \\\n",
       "0  ['+1', '+1', '+1', '+1', '+1', '+1', '+1', '+1...          11   \n",
       "1  ['+1', '+1', '+1', '+1', '+1', '+1', '+1', '+1...          11   \n",
       "\n",
       "      closed_by  comment_id   comment_created_at   comment_updated_at  \\\n",
       "0  Mike Ruberry   326121859  2017-08-30 21:17:02  2017-08-30 21:17:02   \n",
       "1  Mike Ruberry   326360939  2017-08-31 17:07:44  2017-08-31 17:07:44   \n",
       "\n",
       "        comment_user_id   comment_user  \\\n",
       "0  MDQ6VXNlcjEzMTA1NzA=        soumith   \n",
       "1  MDQ6VXNlcjY4NzE5NA==  alykhantejani   \n",
       "\n",
       "                                        comment_text  project  issue_id  \n",
       "0  @alykhantejani (as the man behind PixelShuffle...  pytorch         0  \n",
       "1  @hinthornw This sounds like something for a py...  pytorch         0  "
      ]
     },
     "execution_count": 16,
     "metadata": {},
     "output_type": "execute_result"
    }
   ],
   "source": [
    "# add issue id\n",
    "\n",
    "df_gitIssues_id=df_gitIssues[[\"title\",\"created_at\"]].drop_duplicates().reset_index(drop=True)\n",
    "df_gitIssues_id[\"issue_id\"]=df_gitIssues_id.index\n",
    "\n",
    "df_gitIssues=pd.merge(df_gitIssues, df_gitIssues_id,on=[\"title\",\"created_at\"])\n",
    "df_gitIssues.head(2)"
   ]
  },
  {
   "cell_type": "markdown",
   "id": "b81a2513",
   "metadata": {},
   "source": [
    "### 2.4.2: Converting string columns into datetime"
   ]
  },
  {
   "cell_type": "code",
   "execution_count": 17,
   "id": "bf026e57",
   "metadata": {},
   "outputs": [],
   "source": [
    "# convert string to datetime\n",
    "\n",
    "df_gitIssues['created_at']=pd.to_datetime(df_gitIssues['created_at'])\n",
    "df_gitIssues['updated_at']=pd.to_datetime(df_gitIssues['updated_at'])\n",
    "df_gitIssues['closed_at']=pd.to_datetime(df_gitIssues['closed_at'])\n",
    "\n",
    "df_gitIssues['comment_created_at']=pd.to_datetime(df_gitIssues['comment_created_at'])\n",
    "df_gitIssues['comment_updated_at']=pd.to_datetime(df_gitIssues['comment_updated_at'])"
   ]
  },
  {
   "cell_type": "code",
   "execution_count": 18,
   "id": "53ff154a",
   "metadata": {},
   "outputs": [],
   "source": [
    "# # conver str to list\n",
    "# df_gitIssues['assignees']=df_gitIssues['assignees'].map(lambda x: eval(x))\n",
    "\n",
    "# # conver str to list\n",
    "# df_gitIssues['reactions']=df_gitIssues['reactions'].map(lambda x: eval(x))\n",
    "\n",
    "# # conver str to list\n",
    "# df_gitIssues['labels']=df_gitIssues['labels'].map(lambda x: eval(x))"
   ]
  },
  {
   "cell_type": "markdown",
   "id": "a2eceed1",
   "metadata": {},
   "source": [
    "## 2.5: Loading postgres table"
   ]
  },
  {
   "cell_type": "markdown",
   "id": "51fb1e29",
   "metadata": {},
   "source": [
    "### 2.5.1: git_commit table"
   ]
  },
  {
   "cell_type": "code",
   "execution_count": 19,
   "id": "129ff470",
   "metadata": {},
   "outputs": [],
   "source": [
    "commit_columns=['hash', 'msg', 'author_name', 'committer_name', 'author_date','author_timezone', 'committer_date', 'committer_timezone', 'branches', 'in_main_branch', \n",
    "                'merge', 'parents', 'project_name', 'deletions',   'insertions', 'lines', 'files']\n",
    "\n",
    "df_commit=df_gitdata[commit_columns].drop_duplicates()\n",
    "values = list(zip(*map(df_commit.get, df_commit)))\n",
    "\n",
    "try:\n",
    "    connection = psycopg2.connect(dbname=dbname,\n",
    "                            user=user,\n",
    "                            password=password,\n",
    "                            host=host,\n",
    "                            port=port)\n",
    "    cursor = connection.cursor()\n",
    "    \n",
    "    # SQL INSERT\n",
    "    insert_sql = \"\"\"INSERT INTO fcp.git_commit (hash, msg, author_name, committer_name, author_date, author_timezone, committer_date, \n",
    "                                                                            committer_timezone,branches,  in_main_branch, merge, parents, project_name, deletions, insertions, lines, files)\n",
    "    VALUES (%s, %s, %s, %s, %s, %s, %s, %s, %s, %s, %s, %s, %s, %s, %s, %s, %s)\"\"\"\n",
    "    \n",
    "    # Insert data\n",
    "    for value in values:\n",
    "        cursor.execute(insert_sql, value)\n",
    "        # print(cursor.statusmessage)\n",
    "\n",
    "    # Commit changes\n",
    "    connection.commit()\n",
    "\n",
    "except  psycopg2.Error as error:\n",
    "    print(\"Warning!\", error)\n",
    "\n",
    "finally:\n",
    "        if connection is not None:\n",
    "            cursor.close()\n",
    "            connection.close()"
   ]
  },
  {
   "cell_type": "markdown",
   "id": "a439406a",
   "metadata": {},
   "source": [
    "### 2.5.2: git_commit_file table"
   ]
  },
  {
   "cell_type": "code",
   "execution_count": 20,
   "id": "b894df46",
   "metadata": {},
   "outputs": [],
   "source": [
    "\n",
    "commit_file_columns=['file_id', 'hash', 'old_path', 'new_path', 'filename',  'change_type', 'diff', 'diff_parsed', 'deleted_lines',\n",
    "                     'source_code', 'source_code_before', 'nloc', 'complexity', 'token_count' ]\n",
    "\n",
    "df_commit_file=df_gitdata[commit_file_columns].copy()\n",
    "\n",
    "values = list(zip(*map(df_commit_file.get, df_commit_file)))\n",
    "\n",
    "try:\n",
    "    connection = psycopg2.connect(dbname=dbname,\n",
    "                            user=user,\n",
    "                            password=password,\n",
    "                            host=host,\n",
    "                            port=port)\n",
    "    cursor = connection.cursor()\n",
    "    \n",
    "    # SQL INSERT\n",
    "    insert_sql = \"\"\"INSERT INTO fcp.git_commit_file (file_id, hash, old_path, new_path, filename, change_type, diff, diff_parsed, deleted_lines, \n",
    "                                                                                   source_code, source_code_before, nloc, complexity, token_count)\n",
    "    VALUES (%s, %s, %s, %s, %s, %s, %s, %s, %s, %s, %s, %s, %s, %s)\"\"\"\n",
    "    \n",
    "    # Insert data\n",
    "    for value in values:\n",
    "        cursor.execute(insert_sql, value)\n",
    "\n",
    "    # Commit changes\n",
    "    connection.commit()\n",
    "\n",
    "except  psycopg2.Error as error:\n",
    "    print(\"Warning!\", error)\n",
    "    print(value)\n",
    "\n",
    "finally:\n",
    "        if connection is not None:\n",
    "            cursor.close()\n",
    "            connection.close()"
   ]
  },
  {
   "cell_type": "markdown",
   "id": "2cf88081",
   "metadata": {},
   "source": [
    "### 2.5.3: git_issue table"
   ]
  },
  {
   "cell_type": "code",
   "execution_count": 21,
   "id": "afbd7eab",
   "metadata": {},
   "outputs": [],
   "source": [
    "issue_columns=['issue_id', 'title', 'state', 'body', 'user', 'user_id', 'created_at',  'updated_at', 'closed_at', 'assignees',\n",
    "                           'labels', 'reactions', 'n_comments','closed_by','project']\n",
    "\n",
    "df_issue_columns=df_gitIssues[issue_columns].drop_duplicates()\n",
    "values = list(zip(*map(df_issue_columns.get, df_issue_columns)))\n",
    "\n",
    "try:\n",
    "    connection = psycopg2.connect(dbname=dbname,\n",
    "                            user=user,\n",
    "                            password=password,\n",
    "                            host=host,\n",
    "                            port=port)\n",
    "    cursor = connection.cursor()\n",
    "    \n",
    "    # SQL INSERT\n",
    "    insert_sql = \"\"\"INSERT INTO fcp.git_issue (issue_id, title, state, body, \"user\", user_id,  created_at, updated_at, closed_at, \n",
    "                                                                             assignees, labels, reactions, n_comments,closed_by,project)\n",
    "    VALUES (%s, %s, %s, %s, %s, %s, %s, %s, %s, %s, %s, %s, %s, %s, %s)\"\"\"\n",
    "    \n",
    "    # Insert data\n",
    "    for value in values:\n",
    "        cursor.execute(insert_sql, value)\n",
    "        # print(cursor.statusmessage)\n",
    "\n",
    "    # Commit changes\n",
    "    connection.commit()\n",
    "\n",
    "except  psycopg2.Error as error:\n",
    "    print(\"Warning!\", error)\n",
    "\n",
    "finally:\n",
    "        if connection is not None:\n",
    "            cursor.close()\n",
    "            connection.close()"
   ]
  },
  {
   "cell_type": "markdown",
   "id": "6f32e8fe",
   "metadata": {},
   "source": [
    "### 2.5.4: git_issue_comment table"
   ]
  },
  {
   "cell_type": "code",
   "execution_count": 22,
   "id": "aae1e369",
   "metadata": {},
   "outputs": [],
   "source": [
    "issue_comment_columns=['comment_id', 'issue_id', 'comment_created_at',  'comment_updated_at', 'comment_user_id', 'comment_user', 'comment_text']\n",
    "\n",
    "df_issue_comment_columns=df_gitIssues[issue_comment_columns].drop_duplicates()\n",
    "values = list(zip(*map(df_issue_comment_columns.get, df_issue_comment_columns)))\n",
    "\n",
    "try:\n",
    "    connection = psycopg2.connect(dbname=dbname,\n",
    "                            user=user,\n",
    "                            password=password,\n",
    "                            host=host,\n",
    "                            port=port)\n",
    "    cursor = connection.cursor()\n",
    "    \n",
    "    # SQL INSERT\n",
    "    insert_sql = \"\"\"INSERT INTO fcp.git_issue_comment (comment_id, issue_id, comment_created_at, comment_updated_at, comment_user_id, \n",
    "                                                                         comment_user, comment_text)\n",
    "    VALUES (%s, %s, %s, %s, %s, %s, %s)\"\"\"\n",
    "    \n",
    "    # Insert data\n",
    "    for value in values:\n",
    "        cursor.execute(insert_sql, value)\n",
    "        # print(cursor.statusmessage)\n",
    "\n",
    "    # Commit changes\n",
    "    connection.commit()\n",
    "\n",
    "except  psycopg2.Error as error:\n",
    "    print(\"Warning!\", error)\n",
    "\n",
    "finally:\n",
    "        if connection is not None:\n",
    "            cursor.close()\n",
    "            connection.close()"
   ]
  },
  {
   "cell_type": "markdown",
   "id": "a719ecc9",
   "metadata": {},
   "source": [
    "# Part 3: Descriptive Insights\n",
    "#### *Task 2 of the assignment*\n",
    "###### [Back to TOC](#table-of-contents)"
   ]
  },
  {
   "cell_type": "code",
   "execution_count": 23,
   "id": "8c149e97",
   "metadata": {},
   "outputs": [],
   "source": [
    "import pandas as pd\n",
    "import psycopg2\n",
    "import matplotlib.pyplot as plt\n",
    "import seaborn as sns\n",
    "\n",
    "pd.set_option(\"display.max_columns\",None)\n",
    "sns.set_palette('Set2')\n",
    "sns.set_style('white')"
   ]
  },
  {
   "cell_type": "code",
   "execution_count": 24,
   "id": "2b9c6302",
   "metadata": {},
   "outputs": [],
   "source": [
    "connection = psycopg2.connect(dbname=dbname,\n",
    "                            user=user,\n",
    "                            password=password,\n",
    "                            host=host,\n",
    "                            port=port)"
   ]
  },
  {
   "cell_type": "markdown",
   "id": "9295ce1a",
   "metadata": {},
   "source": [
    "## 3.1: Total commit count by project"
   ]
  },
  {
   "cell_type": "code",
   "execution_count": 25,
   "id": "e80e4a9a",
   "metadata": {},
   "outputs": [
    {
     "data": {
      "text/html": [
       "<div>\n",
       "<style scoped>\n",
       "    .dataframe tbody tr th:only-of-type {\n",
       "        vertical-align: middle;\n",
       "    }\n",
       "\n",
       "    .dataframe tbody tr th {\n",
       "        vertical-align: top;\n",
       "    }\n",
       "\n",
       "    .dataframe thead th {\n",
       "        text-align: right;\n",
       "    }\n",
       "</style>\n",
       "<table border=\"1\" class=\"dataframe\">\n",
       "  <thead>\n",
       "    <tr style=\"text-align: right;\">\n",
       "      <th></th>\n",
       "      <th>project_name</th>\n",
       "      <th>number_of_commit</th>\n",
       "    </tr>\n",
       "  </thead>\n",
       "  <tbody>\n",
       "    <tr>\n",
       "      <th>0</th>\n",
       "      <td>pytorch</td>\n",
       "      <td>4514</td>\n",
       "    </tr>\n",
       "    <tr>\n",
       "      <th>1</th>\n",
       "      <td>text</td>\n",
       "      <td>66</td>\n",
       "    </tr>\n",
       "    <tr>\n",
       "      <th>2</th>\n",
       "      <td>elastic</td>\n",
       "      <td>10</td>\n",
       "    </tr>\n",
       "    <tr>\n",
       "      <th>3</th>\n",
       "      <td>tensorflow</td>\n",
       "      <td>9152</td>\n",
       "    </tr>\n",
       "    <tr>\n",
       "      <th>4</th>\n",
       "      <td>serve</td>\n",
       "      <td>382</td>\n",
       "    </tr>\n",
       "    <tr>\n",
       "      <th>5</th>\n",
       "      <td>vision</td>\n",
       "      <td>475</td>\n",
       "    </tr>\n",
       "    <tr>\n",
       "      <th>6</th>\n",
       "      <td>torchrec</td>\n",
       "      <td>94</td>\n",
       "    </tr>\n",
       "    <tr>\n",
       "      <th>7</th>\n",
       "      <td>audio</td>\n",
       "      <td>330</td>\n",
       "    </tr>\n",
       "    <tr>\n",
       "      <th>8</th>\n",
       "      <td>xla</td>\n",
       "      <td>101</td>\n",
       "    </tr>\n",
       "  </tbody>\n",
       "</table>\n",
       "</div>"
      ],
      "text/plain": [
       "  project_name  number_of_commit\n",
       "0      pytorch              4514\n",
       "1         text                66\n",
       "2      elastic                10\n",
       "3   tensorflow              9152\n",
       "4        serve               382\n",
       "5       vision               475\n",
       "6     torchrec                94\n",
       "7        audio               330\n",
       "8          xla               101"
      ]
     },
     "execution_count": 25,
     "metadata": {},
     "output_type": "execute_result"
    }
   ],
   "source": [
    "sql=\"\"\"\n",
    "    select project_name, count(hash) as number_of_commit\n",
    "    from fcp.git_commit\n",
    "    group by 1\n",
    "\"\"\"\n",
    "\n",
    "pd.read_sql(sql,connection)"
   ]
  },
  {
   "cell_type": "markdown",
   "id": "78ae7a7c",
   "metadata": {},
   "source": [
    "##### The pdf states that this data is git data from pytorch tensorflow, but in actuality \"project_name\" contains other data, to use the data below, we must filter project_name in ('pytorch','tensorflow')"
   ]
  },
  {
   "cell_type": "code",
   "execution_count": 26,
   "id": "f5fbd44b",
   "metadata": {},
   "outputs": [
    {
     "data": {
      "text/html": [
       "<div>\n",
       "<style scoped>\n",
       "    .dataframe tbody tr th:only-of-type {\n",
       "        vertical-align: middle;\n",
       "    }\n",
       "\n",
       "    .dataframe tbody tr th {\n",
       "        vertical-align: top;\n",
       "    }\n",
       "\n",
       "    .dataframe thead th {\n",
       "        text-align: right;\n",
       "    }\n",
       "</style>\n",
       "<table border=\"1\" class=\"dataframe\">\n",
       "  <thead>\n",
       "    <tr style=\"text-align: right;\">\n",
       "      <th></th>\n",
       "      <th>project_name</th>\n",
       "      <th>committer_date</th>\n",
       "      <th>number_of_commit</th>\n",
       "    </tr>\n",
       "  </thead>\n",
       "  <tbody>\n",
       "    <tr>\n",
       "      <th>0</th>\n",
       "      <td>tensorflow</td>\n",
       "      <td>2021-11-14</td>\n",
       "      <td>7</td>\n",
       "    </tr>\n",
       "    <tr>\n",
       "      <th>1</th>\n",
       "      <td>pytorch</td>\n",
       "      <td>2021-09-10</td>\n",
       "      <td>30</td>\n",
       "    </tr>\n",
       "    <tr>\n",
       "      <th>2</th>\n",
       "      <td>pytorch</td>\n",
       "      <td>2021-10-19</td>\n",
       "      <td>54</td>\n",
       "    </tr>\n",
       "    <tr>\n",
       "      <th>3</th>\n",
       "      <td>pytorch</td>\n",
       "      <td>2021-10-05</td>\n",
       "      <td>33</td>\n",
       "    </tr>\n",
       "    <tr>\n",
       "      <th>4</th>\n",
       "      <td>tensorflow</td>\n",
       "      <td>2021-09-14</td>\n",
       "      <td>71</td>\n",
       "    </tr>\n",
       "  </tbody>\n",
       "</table>\n",
       "</div>"
      ],
      "text/plain": [
       "  project_name committer_date  number_of_commit\n",
       "0   tensorflow     2021-11-14                 7\n",
       "1      pytorch     2021-09-10                30\n",
       "2      pytorch     2021-10-19                54\n",
       "3      pytorch     2021-10-05                33\n",
       "4   tensorflow     2021-09-14                71"
      ]
     },
     "execution_count": 26,
     "metadata": {},
     "output_type": "execute_result"
    }
   ],
   "source": [
    "\n",
    "sql=\"\"\"\n",
    "    select project_name, committer_date::date as committer_date,count(hash) as number_of_commit\n",
    "    from fcp.git_commit\n",
    "    where project_name in('pytorch','tensorflow')\n",
    "    group by 1,2\n",
    "\"\"\"\n",
    "\n",
    "df_daily_commit_num=pd.read_sql(sql,connection)\n",
    "df_daily_commit_num['committer_date']=pd.to_datetime(df_daily_commit_num['committer_date'])\n",
    "df_daily_commit_num.head()"
   ]
  },
  {
   "cell_type": "code",
   "execution_count": 27,
   "id": "28293595",
   "metadata": {},
   "outputs": [
    {
     "data": {
      "image/png": "[encoded data removed]",
      "text/plain": [
       "<Figure size 576x360 with 1 Axes>"
      ]
     },
     "metadata": {
      "needs_background": "light"
     },
     "output_type": "display_data"
    }
   ],
   "source": [
    "plt.figure(figsize=(8,5))\n",
    "sns.lineplot(x=\"committer_date\",y='number_of_commit',hue='project_name', data=df_daily_commit_num)\n",
    "plt.title(\"Daily Commits Number by Project\",fontsize=14)\n",
    "sns.despine()"
   ]
  },
  {
   "cell_type": "markdown",
   "id": "6cdb6d5d",
   "metadata": {},
   "source": [
    "##### Tensorflow's commit count is much higher than Pytorch's throughout the duration from July 2021 to January of 2022. This could suggest that the Tensorflow's developers are much more active than the one at Pytorch. Or this could also suggest that Tensorflow has much more work to be done to be fully developed than Pytorch."
   ]
  },
  {
   "cell_type": "markdown",
   "id": "409d82df",
   "metadata": {},
   "source": [
    "## 3.2: Total number of files and number of lines of code\n",
    "\n",
    "\n",
    "##### Besides the commit count, we could also take a look at the file number and lines of code which could tell us more about each of the packages Tensorflow and Pytorch."
   ]
  },
  {
   "cell_type": "code",
   "execution_count": 28,
   "id": "4926c968",
   "metadata": {},
   "outputs": [
    {
     "data": {
      "text/html": [
       "<div>\n",
       "<style scoped>\n",
       "    .dataframe tbody tr th:only-of-type {\n",
       "        vertical-align: middle;\n",
       "    }\n",
       "\n",
       "    .dataframe tbody tr th {\n",
       "        vertical-align: top;\n",
       "    }\n",
       "\n",
       "    .dataframe thead th {\n",
       "        text-align: right;\n",
       "    }\n",
       "</style>\n",
       "<table border=\"1\" class=\"dataframe\">\n",
       "  <thead>\n",
       "    <tr style=\"text-align: right;\">\n",
       "      <th></th>\n",
       "      <th>project_name</th>\n",
       "      <th>total_lines</th>\n",
       "      <th>total_files</th>\n",
       "    </tr>\n",
       "  </thead>\n",
       "  <tbody>\n",
       "    <tr>\n",
       "      <th>0</th>\n",
       "      <td>pytorch</td>\n",
       "      <td>1272451</td>\n",
       "      <td>24103</td>\n",
       "    </tr>\n",
       "    <tr>\n",
       "      <th>1</th>\n",
       "      <td>tensorflow</td>\n",
       "      <td>1614591</td>\n",
       "      <td>30641</td>\n",
       "    </tr>\n",
       "  </tbody>\n",
       "</table>\n",
       "</div>"
      ],
      "text/plain": [
       "  project_name  total_lines  total_files\n",
       "0      pytorch      1272451        24103\n",
       "1   tensorflow      1614591        30641"
      ]
     },
     "execution_count": 28,
     "metadata": {},
     "output_type": "execute_result"
    }
   ],
   "source": [
    "sql=\"\"\"\n",
    "    select project_name\n",
    "    ,sum(lines) as total_lines\n",
    "    ,sum(files) as total_files\n",
    "    from fcp.git_commit\n",
    "    where project_name in('pytorch','tensorflow')\n",
    "    group by 1\n",
    "    order by 1\n",
    "\"\"\"\n",
    "\n",
    "df_linefile_num=pd.read_sql(sql,connection)\n",
    "df_linefile_num.head()"
   ]
  },
  {
   "cell_type": "code",
   "execution_count": 29,
   "id": "bd5c5ffa",
   "metadata": {},
   "outputs": [
    {
     "data": {
      "image/png": "[encoded data removed]",
      "text/plain": [
       "<Figure size 1152x360 with 2 Axes>"
      ]
     },
     "metadata": {
      "needs_background": "light"
     },
     "output_type": "display_data"
    }
   ],
   "source": [
    "fig,axs=plt.subplots(1,2,figsize=(16,5))\n",
    "\n",
    "sns.barplot(x='project_name',y='total_lines', data=df_linefile_num,ax=axs[0])\n",
    "sns.barplot(x='project_name',y='total_files', data=df_linefile_num,ax=axs[1])\n",
    "\n",
    "plt.suptitle(\"Code Lines & Files Number by Project\",fontsize=14)\n",
    "sns.despine()"
   ]
  },
  {
   "cell_type": "markdown",
   "id": "fc23d741",
   "metadata": {},
   "source": [
    "##### Tensorflow developers have a greater workload than those of Pytorch based on the number of lines of code and number of files "
   ]
  },
  {
   "cell_type": "markdown",
   "id": "8ca98472",
   "metadata": {},
   "source": [
    "## 3.3: Number of author comparison"
   ]
  },
  {
   "cell_type": "code",
   "execution_count": 30,
   "id": "0d875fc2",
   "metadata": {},
   "outputs": [
    {
     "data": {
      "text/html": [
       "<div>\n",
       "<style scoped>\n",
       "    .dataframe tbody tr th:only-of-type {\n",
       "        vertical-align: middle;\n",
       "    }\n",
       "\n",
       "    .dataframe tbody tr th {\n",
       "        vertical-align: top;\n",
       "    }\n",
       "\n",
       "    .dataframe thead th {\n",
       "        text-align: right;\n",
       "    }\n",
       "</style>\n",
       "<table border=\"1\" class=\"dataframe\">\n",
       "  <thead>\n",
       "    <tr style=\"text-align: right;\">\n",
       "      <th></th>\n",
       "      <th>project_name</th>\n",
       "      <th>number_of_author</th>\n",
       "      <th>number_of_committer</th>\n",
       "    </tr>\n",
       "  </thead>\n",
       "  <tbody>\n",
       "    <tr>\n",
       "      <th>0</th>\n",
       "      <td>pytorch</td>\n",
       "      <td>532</td>\n",
       "      <td>1</td>\n",
       "    </tr>\n",
       "    <tr>\n",
       "      <th>1</th>\n",
       "      <td>tensorflow</td>\n",
       "      <td>456</td>\n",
       "      <td>164</td>\n",
       "    </tr>\n",
       "  </tbody>\n",
       "</table>\n",
       "</div>"
      ],
      "text/plain": [
       "  project_name  number_of_author  number_of_committer\n",
       "0      pytorch               532                    1\n",
       "1   tensorflow               456                  164"
      ]
     },
     "execution_count": 30,
     "metadata": {},
     "output_type": "execute_result"
    }
   ],
   "source": [
    "sql=\"\"\"\n",
    "    select project_name, count(distinct author_name) as number_of_author, count(distinct committer_name) as number_of_committer\n",
    "    from fcp.git_commit\n",
    "    where project_name in('pytorch','tensorflow')\n",
    "    group by 1\n",
    "    order by 1\n",
    "\"\"\"\n",
    "\n",
    "df_aucom_num=pd.read_sql(sql,connection)\n",
    "df_aucom_num.head()"
   ]
  },
  {
   "cell_type": "markdown",
   "id": "68e6992a",
   "metadata": {},
   "source": [
    "##### Based on 3.2 we would assume that there would be a higher number of developers in Tensorflow as there is a higher workload. However it seems that there are more Pytorch developers than Tensorflow. We can then conclude that a single Tensorflow developer would have a higher amount of workload than the developers at Pytorch."
   ]
  },
  {
   "cell_type": "markdown",
   "id": "60a7c6ca",
   "metadata": {},
   "source": [
    "## 3.4: Number of authors based on region (timezone)\n",
    "\n",
    "##### Although the data did not include geographical locations, there is a timezone difference. Based on this we can use the timezone differential to estimate the spread of programmers."
   ]
  },
  {
   "cell_type": "code",
   "execution_count": 31,
   "id": "01ebd902",
   "metadata": {},
   "outputs": [
    {
     "data": {
      "text/html": [
       "<div>\n",
       "<style scoped>\n",
       "    .dataframe tbody tr th:only-of-type {\n",
       "        vertical-align: middle;\n",
       "    }\n",
       "\n",
       "    .dataframe tbody tr th {\n",
       "        vertical-align: top;\n",
       "    }\n",
       "\n",
       "    .dataframe thead th {\n",
       "        text-align: right;\n",
       "    }\n",
       "</style>\n",
       "<table border=\"1\" class=\"dataframe\">\n",
       "  <thead>\n",
       "    <tr style=\"text-align: right;\">\n",
       "      <th></th>\n",
       "      <th>project_name</th>\n",
       "      <th>author_timezone</th>\n",
       "      <th>number_of_author</th>\n",
       "    </tr>\n",
       "  </thead>\n",
       "  <tbody>\n",
       "    <tr>\n",
       "      <th>0</th>\n",
       "      <td>pytorch</td>\n",
       "      <td>7</td>\n",
       "      <td>431</td>\n",
       "    </tr>\n",
       "    <tr>\n",
       "      <th>1</th>\n",
       "      <td>pytorch</td>\n",
       "      <td>8</td>\n",
       "      <td>254</td>\n",
       "    </tr>\n",
       "    <tr>\n",
       "      <th>2</th>\n",
       "      <td>tensorflow</td>\n",
       "      <td>-11</td>\n",
       "      <td>1</td>\n",
       "    </tr>\n",
       "    <tr>\n",
       "      <th>3</th>\n",
       "      <td>tensorflow</td>\n",
       "      <td>-10</td>\n",
       "      <td>2</td>\n",
       "    </tr>\n",
       "    <tr>\n",
       "      <th>4</th>\n",
       "      <td>tensorflow</td>\n",
       "      <td>-9</td>\n",
       "      <td>7</td>\n",
       "    </tr>\n",
       "  </tbody>\n",
       "</table>\n",
       "</div>"
      ],
      "text/plain": [
       "  project_name  author_timezone  number_of_author\n",
       "0      pytorch                7               431\n",
       "1      pytorch                8               254\n",
       "2   tensorflow              -11                 1\n",
       "3   tensorflow              -10                 2\n",
       "4   tensorflow               -9                 7"
      ]
     },
     "execution_count": 31,
     "metadata": {},
     "output_type": "execute_result"
    }
   ],
   "source": [
    "sql=\"\"\"\n",
    "    select project_name, author_timezone/3600 as author_timezone,count(distinct author_name) as number_of_author\n",
    "    from fcp.git_commit\n",
    "    where project_name in('pytorch','tensorflow')\n",
    "    group by 1,2\n",
    "    order by 1,2\n",
    "\"\"\"\n",
    "\n",
    "df_committer_num=pd.read_sql(sql,connection)\n",
    "df_committer_num.head()"
   ]
  },
  {
   "cell_type": "code",
   "execution_count": 32,
   "id": "f5ff6414",
   "metadata": {},
   "outputs": [
    {
     "data": {
      "image/png": "[encoded data removed]",
      "text/plain": [
       "<Figure size 576x360 with 1 Axes>"
      ]
     },
     "metadata": {
      "needs_background": "light"
     },
     "output_type": "display_data"
    }
   ],
   "source": [
    "plt.figure(figsize=(8,5))\n",
    "sns.barplot(x=\"author_timezone\",y='number_of_author',hue='project_name', data=df_committer_num)\n",
    "plt.title(\"Author Timezone Distribution by Project\",fontsize=14)\n",
    "sns.despine()"
   ]
  },
  {
   "cell_type": "markdown",
   "id": "2a549e30",
   "metadata": {},
   "source": [
    "##### It seems that the developers of the two open source projects are mainly distributed in zone 7 and 8 (We can check which countries this zone has). In addition, Tensorflow developers are more widely distributed internationally as there are few authors in different timezones as compared to Pytorch which only has developers in zones 7 & 8.\n",
    "##### A positive number should represent an eastern time zone, and a negative number should be a western time zone. The value mentioned in the title represents the number of seconds, hence  divide by 3600(sql)"
   ]
  },
  {
   "cell_type": "markdown",
   "id": "3735ed3d",
   "metadata": {},
   "source": [
    "## 3.5: Work hour distribution\n",
    "\n",
    "##### To look at the time when developers have high workload"
   ]
  },
  {
   "cell_type": "markdown",
   "id": "24052fbd",
   "metadata": {},
   "source": [
    "### 3.5.1 Author hour distribution"
   ]
  },
  {
   "cell_type": "code",
   "execution_count": 33,
   "id": "16d7d08a",
   "metadata": {},
   "outputs": [
    {
     "data": {
      "text/html": [
       "<div>\n",
       "<style scoped>\n",
       "    .dataframe tbody tr th:only-of-type {\n",
       "        vertical-align: middle;\n",
       "    }\n",
       "\n",
       "    .dataframe tbody tr th {\n",
       "        vertical-align: top;\n",
       "    }\n",
       "\n",
       "    .dataframe thead th {\n",
       "        text-align: right;\n",
       "    }\n",
       "</style>\n",
       "<table border=\"1\" class=\"dataframe\">\n",
       "  <thead>\n",
       "    <tr style=\"text-align: right;\">\n",
       "      <th></th>\n",
       "      <th>project_name</th>\n",
       "      <th>author_hour</th>\n",
       "      <th>number_of_commit</th>\n",
       "    </tr>\n",
       "  </thead>\n",
       "  <tbody>\n",
       "    <tr>\n",
       "      <th>0</th>\n",
       "      <td>pytorch</td>\n",
       "      <td>0</td>\n",
       "      <td>241</td>\n",
       "    </tr>\n",
       "    <tr>\n",
       "      <th>1</th>\n",
       "      <td>pytorch</td>\n",
       "      <td>1</td>\n",
       "      <td>225</td>\n",
       "    </tr>\n",
       "    <tr>\n",
       "      <th>2</th>\n",
       "      <td>pytorch</td>\n",
       "      <td>2</td>\n",
       "      <td>164</td>\n",
       "    </tr>\n",
       "    <tr>\n",
       "      <th>3</th>\n",
       "      <td>pytorch</td>\n",
       "      <td>3</td>\n",
       "      <td>143</td>\n",
       "    </tr>\n",
       "    <tr>\n",
       "      <th>4</th>\n",
       "      <td>pytorch</td>\n",
       "      <td>4</td>\n",
       "      <td>135</td>\n",
       "    </tr>\n",
       "  </tbody>\n",
       "</table>\n",
       "</div>"
      ],
      "text/plain": [
       "  project_name  author_hour  number_of_commit\n",
       "0      pytorch            0               241\n",
       "1      pytorch            1               225\n",
       "2      pytorch            2               164\n",
       "3      pytorch            3               143\n",
       "4      pytorch            4               135"
      ]
     },
     "execution_count": 33,
     "metadata": {},
     "output_type": "execute_result"
    }
   ],
   "source": [
    "sql=\"\"\"\n",
    "    select project_name, extract(hour from author_date) as author_hour,count(hash) as number_of_commit\n",
    "    from fcp.git_commit\n",
    "    where project_name in('pytorch','tensorflow')\n",
    "    group by 1,2\n",
    "    order by 1,2\n",
    "\"\"\"\n",
    "\n",
    "df_author_hour=pd.read_sql(sql,connection)\n",
    "df_author_hour[\"author_hour\"]=df_author_hour[\"author_hour\"].astype(int)\n",
    "df_author_hour.head()"
   ]
  },
  {
   "cell_type": "code",
   "execution_count": 34,
   "id": "96104f6f",
   "metadata": {},
   "outputs": [
    {
     "data": {
      "image/png": "[encoded data removed]",
      "text/plain": [
       "<Figure size 576x360 with 1 Axes>"
      ]
     },
     "metadata": {
      "needs_background": "light"
     },
     "output_type": "display_data"
    }
   ],
   "source": [
    "plt.figure(figsize=(8,5))\n",
    "sns.barplot(x=\"author_hour\",y='number_of_commit',hue='project_name', data=df_author_hour)\n",
    "sns.lineplot(x=\"author_hour\",y='number_of_commit',hue='project_name', data=df_author_hour)\n",
    "plt.title(\"Author Work Hour Distribution by Project\",fontsize=14)\n",
    "sns.despine()"
   ]
  },
  {
   "cell_type": "markdown",
   "id": "805cfe43",
   "metadata": {},
   "source": [
    "##### We can see a clear pattern for Pytorch, a decline in number of commits from hour 0 to hour 12 and then an increase from hour 13 to the peak in hour 17. Meanwhile Tensorflow's commit hours are more erratic, with a decline from hour 0 to 5 and rising back up to 500 commits in hour 9 and a sharp decline again only to reach its peak of 600 commits at hour 18. This can tell us that the developers of Pytorch work on the development of the OSS as a part-time job as there are more commits during certain hours. Meanwhile for Tensorflow, the developers on average have a higher commit throughout all hours meaning that they develop the software as a full-time job."
   ]
  },
  {
   "cell_type": "markdown",
   "id": "ae752018",
   "metadata": {},
   "source": [
    "### 3.5.2: Committer hour distribution"
   ]
  },
  {
   "cell_type": "code",
   "execution_count": 35,
   "id": "7925ca17",
   "metadata": {},
   "outputs": [
    {
     "data": {
      "text/html": [
       "<div>\n",
       "<style scoped>\n",
       "    .dataframe tbody tr th:only-of-type {\n",
       "        vertical-align: middle;\n",
       "    }\n",
       "\n",
       "    .dataframe tbody tr th {\n",
       "        vertical-align: top;\n",
       "    }\n",
       "\n",
       "    .dataframe thead th {\n",
       "        text-align: right;\n",
       "    }\n",
       "</style>\n",
       "<table border=\"1\" class=\"dataframe\">\n",
       "  <thead>\n",
       "    <tr style=\"text-align: right;\">\n",
       "      <th></th>\n",
       "      <th>project_name</th>\n",
       "      <th>committer_hour</th>\n",
       "      <th>number_of_commit</th>\n",
       "    </tr>\n",
       "  </thead>\n",
       "  <tbody>\n",
       "    <tr>\n",
       "      <th>0</th>\n",
       "      <td>pytorch</td>\n",
       "      <td>0</td>\n",
       "      <td>238</td>\n",
       "    </tr>\n",
       "    <tr>\n",
       "      <th>1</th>\n",
       "      <td>pytorch</td>\n",
       "      <td>1</td>\n",
       "      <td>226</td>\n",
       "    </tr>\n",
       "    <tr>\n",
       "      <th>2</th>\n",
       "      <td>pytorch</td>\n",
       "      <td>2</td>\n",
       "      <td>175</td>\n",
       "    </tr>\n",
       "    <tr>\n",
       "      <th>3</th>\n",
       "      <td>pytorch</td>\n",
       "      <td>3</td>\n",
       "      <td>147</td>\n",
       "    </tr>\n",
       "    <tr>\n",
       "      <th>4</th>\n",
       "      <td>pytorch</td>\n",
       "      <td>4</td>\n",
       "      <td>136</td>\n",
       "    </tr>\n",
       "  </tbody>\n",
       "</table>\n",
       "</div>"
      ],
      "text/plain": [
       "  project_name  committer_hour  number_of_commit\n",
       "0      pytorch               0               238\n",
       "1      pytorch               1               226\n",
       "2      pytorch               2               175\n",
       "3      pytorch               3               147\n",
       "4      pytorch               4               136"
      ]
     },
     "execution_count": 35,
     "metadata": {},
     "output_type": "execute_result"
    }
   ],
   "source": [
    "sql=\"\"\"\n",
    "    select project_name, extract(hour from committer_date) as committer_hour,count(hash) as number_of_commit\n",
    "    from fcp.git_commit\n",
    "    where project_name in('pytorch','tensorflow')\n",
    "    group by 1,2\n",
    "    order by 1,2\n",
    "\"\"\"\n",
    "\n",
    "df_commit_hour=pd.read_sql(sql,connection)\n",
    "df_commit_hour[\"committer_hour\"]=df_commit_hour[\"committer_hour\"].astype(int)\n",
    "df_commit_hour.head()"
   ]
  },
  {
   "cell_type": "code",
   "execution_count": 36,
   "id": "0ade050b",
   "metadata": {},
   "outputs": [
    {
     "data": {
      "image/png": "[encoded data removed]",
      "text/plain": [
       "<Figure size 576x360 with 1 Axes>"
      ]
     },
     "metadata": {
      "needs_background": "light"
     },
     "output_type": "display_data"
    }
   ],
   "source": [
    "plt.figure(figsize=(8,5))\n",
    "sns.barplot(x=\"committer_hour\",y='number_of_commit',hue='project_name', data=df_commit_hour)\n",
    "sns.lineplot(x=\"committer_hour\",y='number_of_commit',hue='project_name', data=df_commit_hour)\n",
    "plt.title(\"Committer Work Hour Distribution by Project\",fontsize=14)\n",
    "sns.despine()"
   ]
  },
  {
   "cell_type": "markdown",
   "id": "adf8888d",
   "metadata": {},
   "source": [
    "##### The committer work hour distribution is similar to that of author work hour distribution. "
   ]
  },
  {
   "cell_type": "markdown",
   "id": "2d3c5f95",
   "metadata": {},
   "source": [
    "## 3.6: Top authors\n",
    "\n",
    "##### Let's see who are the top 10 developers with the highest contribution\n",
    "##### How do we measure contribution? Generally, the number of lines of code is used as an indicator (might not be optimal)"
   ]
  },
  {
   "cell_type": "code",
   "execution_count": 37,
   "id": "dc70ae09",
   "metadata": {},
   "outputs": [
    {
     "data": {
      "text/html": [
       "<div>\n",
       "<style scoped>\n",
       "    .dataframe tbody tr th:only-of-type {\n",
       "        vertical-align: middle;\n",
       "    }\n",
       "\n",
       "    .dataframe tbody tr th {\n",
       "        vertical-align: top;\n",
       "    }\n",
       "\n",
       "    .dataframe thead th {\n",
       "        text-align: right;\n",
       "    }\n",
       "</style>\n",
       "<table border=\"1\" class=\"dataframe\">\n",
       "  <thead>\n",
       "    <tr style=\"text-align: right;\">\n",
       "      <th></th>\n",
       "      <th>project_name</th>\n",
       "      <th>author_name</th>\n",
       "      <th>workload</th>\n",
       "      <th>rnk</th>\n",
       "    </tr>\n",
       "  </thead>\n",
       "  <tbody>\n",
       "    <tr>\n",
       "      <th>0</th>\n",
       "      <td>pytorch</td>\n",
       "      <td>jiej</td>\n",
       "      <td>160111</td>\n",
       "      <td>1</td>\n",
       "    </tr>\n",
       "    <tr>\n",
       "      <th>1</th>\n",
       "      <td>pytorch</td>\n",
       "      <td>Richard Barnes</td>\n",
       "      <td>91073</td>\n",
       "      <td>2</td>\n",
       "    </tr>\n",
       "    <tr>\n",
       "      <th>2</th>\n",
       "      <td>pytorch</td>\n",
       "      <td>Eli Uriegas</td>\n",
       "      <td>89503</td>\n",
       "      <td>3</td>\n",
       "    </tr>\n",
       "    <tr>\n",
       "      <th>3</th>\n",
       "      <td>pytorch</td>\n",
       "      <td>Shen Li</td>\n",
       "      <td>87022</td>\n",
       "      <td>4</td>\n",
       "    </tr>\n",
       "    <tr>\n",
       "      <th>4</th>\n",
       "      <td>pytorch</td>\n",
       "      <td>Zsolt Dollenstein</td>\n",
       "      <td>86191</td>\n",
       "      <td>5</td>\n",
       "    </tr>\n",
       "  </tbody>\n",
       "</table>\n",
       "</div>"
      ],
      "text/plain": [
       "  project_name        author_name  workload  rnk\n",
       "0      pytorch               jiej    160111    1\n",
       "1      pytorch     Richard Barnes     91073    2\n",
       "2      pytorch        Eli Uriegas     89503    3\n",
       "3      pytorch            Shen Li     87022    4\n",
       "4      pytorch  Zsolt Dollenstein     86191    5"
      ]
     },
     "execution_count": 37,
     "metadata": {},
     "output_type": "execute_result"
    }
   ],
   "source": [
    "sql=\"\"\"\n",
    "select *\n",
    "from\n",
    "(\n",
    "    select project_name, author_name,sum(lines) as workload\n",
    "    ,rank()over(partition by project_name order by sum(lines) desc) as rnk\n",
    "    from fcp.git_commit\n",
    "    where project_name in('pytorch','tensorflow')\n",
    "    group by 1,2\n",
    ") tmp\n",
    "where rnk<=10\n",
    "\"\"\"\n",
    "\n",
    "df_top10_authors=pd.read_sql(sql,connection)\n",
    "df_top10_authors.head()"
   ]
  },
  {
   "cell_type": "markdown",
   "id": "fc549720",
   "metadata": {},
   "source": [
    "### 3.6.1: Top authors - number of lines of code (PyTorch)"
   ]
  },
  {
   "cell_type": "code",
   "execution_count": 38,
   "id": "1cf5dc9a",
   "metadata": {},
   "outputs": [
    {
     "data": {
      "image/png": "[encoded data removed]",
      "text/plain": [
       "<Figure size 576x360 with 1 Axes>"
      ]
     },
     "metadata": {
      "needs_background": "light"
     },
     "output_type": "display_data"
    }
   ],
   "source": [
    "plt.figure(figsize=(8,5))\n",
    "sns.barplot(y=\"author_name\",x='workload', data=df_top10_authors[df_top10_authors[\"project_name\"]=='pytorch'])\n",
    "plt.title(\"Top10 Authors of Torch Project\",fontsize=14)\n",
    "sns.despine()"
   ]
  },
  {
   "cell_type": "markdown",
   "id": "61d9e6fa",
   "metadata": {},
   "source": [
    "### 3.6.2: Top authors - number of lines of code (Tensorflow)"
   ]
  },
  {
   "cell_type": "code",
   "execution_count": 39,
   "id": "6f03619c",
   "metadata": {},
   "outputs": [
    {
     "data": {
      "image/png": "[encoded data removed]",
      "text/plain": [
       "<Figure size 576x360 with 1 Axes>"
      ]
     },
     "metadata": {
      "needs_background": "light"
     },
     "output_type": "display_data"
    }
   ],
   "source": [
    "plt.figure(figsize=(8,5))\n",
    "sns.barplot(y=\"author_name\",x='workload', data=df_top10_authors[df_top10_authors[\"project_name\"]=='tensorflow'])\n",
    "plt.title(\"Top10 Authors of Tensorflow Project\",fontsize=14)\n",
    "sns.despine()"
   ]
  },
  {
   "cell_type": "markdown",
   "id": "9cf9e387",
   "metadata": {},
   "source": [
    "##### In contrast, the workload of the developers of tensorflow top1 is extremely prominent, while the other members of top10 are not much different."
   ]
  },
  {
   "cell_type": "markdown",
   "id": "3fe8dc5f",
   "metadata": {},
   "source": [
    "## 3.7: File change type\n",
    "\n",
    "+ Based on the changes in document, we do a comparison "
   ]
  },
  {
   "cell_type": "code",
   "execution_count": 40,
   "id": "9f9f883c",
   "metadata": {},
   "outputs": [
    {
     "data": {
      "text/html": [
       "<div>\n",
       "<style scoped>\n",
       "    .dataframe tbody tr th:only-of-type {\n",
       "        vertical-align: middle;\n",
       "    }\n",
       "\n",
       "    .dataframe tbody tr th {\n",
       "        vertical-align: top;\n",
       "    }\n",
       "\n",
       "    .dataframe thead th {\n",
       "        text-align: right;\n",
       "    }\n",
       "</style>\n",
       "<table border=\"1\" class=\"dataframe\">\n",
       "  <thead>\n",
       "    <tr style=\"text-align: right;\">\n",
       "      <th></th>\n",
       "      <th>project_name</th>\n",
       "      <th>change_type</th>\n",
       "      <th>number_of_file</th>\n",
       "    </tr>\n",
       "  </thead>\n",
       "  <tbody>\n",
       "    <tr>\n",
       "      <th>0</th>\n",
       "      <td>pytorch</td>\n",
       "      <td>ADD</td>\n",
       "      <td>1363</td>\n",
       "    </tr>\n",
       "    <tr>\n",
       "      <th>1</th>\n",
       "      <td>pytorch</td>\n",
       "      <td>DELETE</td>\n",
       "      <td>500</td>\n",
       "    </tr>\n",
       "    <tr>\n",
       "      <th>2</th>\n",
       "      <td>pytorch</td>\n",
       "      <td>MODIFY</td>\n",
       "      <td>21817</td>\n",
       "    </tr>\n",
       "    <tr>\n",
       "      <th>3</th>\n",
       "      <td>pytorch</td>\n",
       "      <td>RENAME</td>\n",
       "      <td>136</td>\n",
       "    </tr>\n",
       "    <tr>\n",
       "      <th>4</th>\n",
       "      <td>tensorflow</td>\n",
       "      <td>ADD</td>\n",
       "      <td>2185</td>\n",
       "    </tr>\n",
       "  </tbody>\n",
       "</table>\n",
       "</div>"
      ],
      "text/plain": [
       "  project_name change_type  number_of_file\n",
       "0      pytorch         ADD            1363\n",
       "1      pytorch      DELETE             500\n",
       "2      pytorch      MODIFY           21817\n",
       "3      pytorch      RENAME             136\n",
       "4   tensorflow         ADD            2185"
      ]
     },
     "execution_count": 40,
     "metadata": {},
     "output_type": "execute_result"
    }
   ],
   "source": [
    "sql=\"\"\"\n",
    "    select project_name, change_type,count(a.hash) as number_of_file\n",
    "    from fcp.git_commit a \n",
    "    join fcp.git_commit_file b\n",
    "    on a.hash=b.hash\n",
    "    \n",
    "    where project_name in('pytorch','tensorflow')\n",
    "    group by 1,2\n",
    "    order by 1,2\n",
    "\"\"\"\n",
    "\n",
    "df_file_change=pd.read_sql(sql,connection)\n",
    "df_file_change.head()"
   ]
  },
  {
   "cell_type": "markdown",
   "id": "2221d238",
   "metadata": {},
   "source": [
    "### 3.7.1: Overview of file changes based on type of change"
   ]
  },
  {
   "cell_type": "code",
   "execution_count": 41,
   "id": "4293ef4f",
   "metadata": {},
   "outputs": [
    {
     "data": {
      "image/png": "[encoded data removed]",
      "text/plain": [
       "<Figure size 576x360 with 1 Axes>"
      ]
     },
     "metadata": {
      "needs_background": "light"
     },
     "output_type": "display_data"
    }
   ],
   "source": [
    "plt.figure(figsize=(8,5))\n",
    "sns.barplot(y=\"change_type\",x='number_of_file',hue='project_name', data=df_file_change)\n",
    "plt.title(\"Files Change by Type and Project\",fontsize=14)\n",
    "sns.despine()"
   ]
  },
  {
   "cell_type": "markdown",
   "id": "6876e4f3",
   "metadata": {},
   "source": [
    "##### The main work of a developer is still to modify code, so let's add a time dimension to compare and see what the difference is"
   ]
  },
  {
   "cell_type": "markdown",
   "id": "816015ae",
   "metadata": {},
   "source": [
    "### 3.7.2: File added based on date"
   ]
  },
  {
   "cell_type": "code",
   "execution_count": 42,
   "id": "ee492040",
   "metadata": {},
   "outputs": [
    {
     "data": {
      "text/html": [
       "<div>\n",
       "<style scoped>\n",
       "    .dataframe tbody tr th:only-of-type {\n",
       "        vertical-align: middle;\n",
       "    }\n",
       "\n",
       "    .dataframe tbody tr th {\n",
       "        vertical-align: top;\n",
       "    }\n",
       "\n",
       "    .dataframe thead th {\n",
       "        text-align: right;\n",
       "    }\n",
       "</style>\n",
       "<table border=\"1\" class=\"dataframe\">\n",
       "  <thead>\n",
       "    <tr style=\"text-align: right;\">\n",
       "      <th></th>\n",
       "      <th>project_name</th>\n",
       "      <th>committer_date</th>\n",
       "      <th>number_of_file</th>\n",
       "    </tr>\n",
       "  </thead>\n",
       "  <tbody>\n",
       "    <tr>\n",
       "      <th>0</th>\n",
       "      <td>pytorch</td>\n",
       "      <td>2021-07-01</td>\n",
       "      <td>5</td>\n",
       "    </tr>\n",
       "    <tr>\n",
       "      <th>1</th>\n",
       "      <td>pytorch</td>\n",
       "      <td>2021-07-02</td>\n",
       "      <td>7</td>\n",
       "    </tr>\n",
       "    <tr>\n",
       "      <th>2</th>\n",
       "      <td>pytorch</td>\n",
       "      <td>2021-07-03</td>\n",
       "      <td>6</td>\n",
       "    </tr>\n",
       "    <tr>\n",
       "      <th>3</th>\n",
       "      <td>pytorch</td>\n",
       "      <td>2021-07-06</td>\n",
       "      <td>12</td>\n",
       "    </tr>\n",
       "    <tr>\n",
       "      <th>4</th>\n",
       "      <td>pytorch</td>\n",
       "      <td>2021-07-07</td>\n",
       "      <td>7</td>\n",
       "    </tr>\n",
       "  </tbody>\n",
       "</table>\n",
       "</div>"
      ],
      "text/plain": [
       "  project_name committer_date  number_of_file\n",
       "0      pytorch     2021-07-01               5\n",
       "1      pytorch     2021-07-02               7\n",
       "2      pytorch     2021-07-03               6\n",
       "3      pytorch     2021-07-06              12\n",
       "4      pytorch     2021-07-07               7"
      ]
     },
     "execution_count": 42,
     "metadata": {},
     "output_type": "execute_result"
    }
   ],
   "source": [
    "sql=\"\"\"\n",
    "    select project_name, committer_date::date as committer_date,count(a.hash) as number_of_file\n",
    "    from fcp.git_commit a \n",
    "    join fcp.git_commit_file b\n",
    "    on a.hash=b.hash\n",
    "    \n",
    "    where project_name in('pytorch','tensorflow')\n",
    "    and change_type='ADD'\n",
    "    group by 1,2\n",
    "    order by 1,2\n",
    "\"\"\"\n",
    "\n",
    "df_file_add=pd.read_sql(sql,connection)\n",
    "df_file_add['committer_date']=pd.to_datetime(df_file_add['committer_date'])\n",
    "df_file_add.head()"
   ]
  },
  {
   "cell_type": "code",
   "execution_count": 43,
   "id": "f7812d70",
   "metadata": {},
   "outputs": [
    {
     "data": {
      "image/png": "[encoded data removed]",
      "text/plain": [
       "<Figure size 576x360 with 1 Axes>"
      ]
     },
     "metadata": {
      "needs_background": "light"
     },
     "output_type": "display_data"
    }
   ],
   "source": [
    "plt.figure(figsize=(8,5))\n",
    "sns.lineplot(x=\"committer_date\",y='number_of_file',hue='project_name', data=df_file_add)\n",
    "plt.title(\"Files Add by Project\",fontsize=14)\n",
    "sns.despine()"
   ]
  },
  {
   "cell_type": "markdown",
   "id": "55d41422",
   "metadata": {},
   "source": [
    "##### The new file should be able to indicate the (creation stage/early stage) of development. From a chronological perspective, the development period of tensorflow is July 2021, and the development  period of pytorch is September 2021, which is consistent with the actual situation."
   ]
  },
  {
   "cell_type": "markdown",
   "id": "f5906fef",
   "metadata": {},
   "source": [
    "### 3.7.3: Files modified by date"
   ]
  },
  {
   "cell_type": "code",
   "execution_count": 44,
   "id": "d5b6c341",
   "metadata": {},
   "outputs": [
    {
     "data": {
      "text/html": [
       "<div>\n",
       "<style scoped>\n",
       "    .dataframe tbody tr th:only-of-type {\n",
       "        vertical-align: middle;\n",
       "    }\n",
       "\n",
       "    .dataframe tbody tr th {\n",
       "        vertical-align: top;\n",
       "    }\n",
       "\n",
       "    .dataframe thead th {\n",
       "        text-align: right;\n",
       "    }\n",
       "</style>\n",
       "<table border=\"1\" class=\"dataframe\">\n",
       "  <thead>\n",
       "    <tr style=\"text-align: right;\">\n",
       "      <th></th>\n",
       "      <th>project_name</th>\n",
       "      <th>committer_date</th>\n",
       "      <th>number_of_file</th>\n",
       "    </tr>\n",
       "  </thead>\n",
       "  <tbody>\n",
       "    <tr>\n",
       "      <th>0</th>\n",
       "      <td>pytorch</td>\n",
       "      <td>2021-07-01</td>\n",
       "      <td>245</td>\n",
       "    </tr>\n",
       "    <tr>\n",
       "      <th>1</th>\n",
       "      <td>pytorch</td>\n",
       "      <td>2021-07-02</td>\n",
       "      <td>30</td>\n",
       "    </tr>\n",
       "    <tr>\n",
       "      <th>2</th>\n",
       "      <td>pytorch</td>\n",
       "      <td>2021-07-03</td>\n",
       "      <td>18</td>\n",
       "    </tr>\n",
       "    <tr>\n",
       "      <th>3</th>\n",
       "      <td>pytorch</td>\n",
       "      <td>2021-07-06</td>\n",
       "      <td>91</td>\n",
       "    </tr>\n",
       "    <tr>\n",
       "      <th>4</th>\n",
       "      <td>pytorch</td>\n",
       "      <td>2021-07-07</td>\n",
       "      <td>164</td>\n",
       "    </tr>\n",
       "  </tbody>\n",
       "</table>\n",
       "</div>"
      ],
      "text/plain": [
       "  project_name committer_date  number_of_file\n",
       "0      pytorch     2021-07-01             245\n",
       "1      pytorch     2021-07-02              30\n",
       "2      pytorch     2021-07-03              18\n",
       "3      pytorch     2021-07-06              91\n",
       "4      pytorch     2021-07-07             164"
      ]
     },
     "execution_count": 44,
     "metadata": {},
     "output_type": "execute_result"
    }
   ],
   "source": [
    "sql=\"\"\"\n",
    "    select project_name, committer_date::date as committer_date,count(a.hash) as number_of_file\n",
    "    from fcp.git_commit a \n",
    "    join fcp.git_commit_file b\n",
    "    on a.hash=b.hash\n",
    "    \n",
    "    where project_name in('pytorch','tensorflow')\n",
    "    and change_type='MODIFY'\n",
    "    group by 1,2\n",
    "    order by 1,2\n",
    "\"\"\"\n",
    "\n",
    "df_file_modify=pd.read_sql(sql,connection)\n",
    "df_file_modify['committer_date']=pd.to_datetime(df_file_modify['committer_date'])\n",
    "df_file_modify.head()"
   ]
  },
  {
   "cell_type": "code",
   "execution_count": 45,
   "id": "da32b407",
   "metadata": {},
   "outputs": [
    {
     "data": {
      "image/png": "[encoded data removed]",
      "text/plain": [
       "<Figure size 576x360 with 1 Axes>"
      ]
     },
     "metadata": {
      "needs_background": "light"
     },
     "output_type": "display_data"
    }
   ],
   "source": [
    "plt.figure(figsize=(8,5))\n",
    "sns.lineplot(x=\"committer_date\",y='number_of_file',hue='project_name', data=df_file_modify)\n",
    "plt.title(\"Files Modify by Project\",fontsize=14)\n",
    "sns.despine()"
   ]
  },
  {
   "cell_type": "markdown",
   "id": "389dc166",
   "metadata": {},
   "source": [
    "###### assumption: we do not look at rename and delete"
   ]
  },
  {
   "cell_type": "markdown",
   "id": "a04259d4",
   "metadata": {},
   "source": [
    "##### From the perspective of file modification, pytorch has undergone two major revisions in July 21 and October 21. It can be said that the development experience of Tensorflow was relatively smoother than that of Pytorch as the line graph of Tensorflow is less erratic than that of Pytorch's."
   ]
  },
  {
   "cell_type": "markdown",
   "id": "39a09b36",
   "metadata": {},
   "source": [
    "## 3.8 Issues"
   ]
  },
  {
   "cell_type": "markdown",
   "id": "fe032deb",
   "metadata": {},
   "source": [
    "### 3.8.1: Number of Issues found by date"
   ]
  },
  {
   "cell_type": "code",
   "execution_count": 46,
   "id": "183bfe49",
   "metadata": {},
   "outputs": [
    {
     "data": {
      "text/html": [
       "<div>\n",
       "<style scoped>\n",
       "    .dataframe tbody tr th:only-of-type {\n",
       "        vertical-align: middle;\n",
       "    }\n",
       "\n",
       "    .dataframe tbody tr th {\n",
       "        vertical-align: top;\n",
       "    }\n",
       "\n",
       "    .dataframe thead th {\n",
       "        text-align: right;\n",
       "    }\n",
       "</style>\n",
       "<table border=\"1\" class=\"dataframe\">\n",
       "  <thead>\n",
       "    <tr style=\"text-align: right;\">\n",
       "      <th></th>\n",
       "      <th>project</th>\n",
       "      <th>created_at</th>\n",
       "      <th>number_of_issue</th>\n",
       "    </tr>\n",
       "  </thead>\n",
       "  <tbody>\n",
       "    <tr>\n",
       "      <th>0</th>\n",
       "      <td>pytorch</td>\n",
       "      <td>2016-08-16</td>\n",
       "      <td>1</td>\n",
       "    </tr>\n",
       "    <tr>\n",
       "      <th>1</th>\n",
       "      <td>pytorch</td>\n",
       "      <td>2016-08-26</td>\n",
       "      <td>1</td>\n",
       "    </tr>\n",
       "    <tr>\n",
       "      <th>2</th>\n",
       "      <td>pytorch</td>\n",
       "      <td>2016-09-02</td>\n",
       "      <td>1</td>\n",
       "    </tr>\n",
       "    <tr>\n",
       "      <th>3</th>\n",
       "      <td>pytorch</td>\n",
       "      <td>2016-10-19</td>\n",
       "      <td>1</td>\n",
       "    </tr>\n",
       "    <tr>\n",
       "      <th>4</th>\n",
       "      <td>pytorch</td>\n",
       "      <td>2016-11-27</td>\n",
       "      <td>1</td>\n",
       "    </tr>\n",
       "  </tbody>\n",
       "</table>\n",
       "</div>"
      ],
      "text/plain": [
       "   project created_at  number_of_issue\n",
       "0  pytorch 2016-08-16                1\n",
       "1  pytorch 2016-08-26                1\n",
       "2  pytorch 2016-09-02                1\n",
       "3  pytorch 2016-10-19                1\n",
       "4  pytorch 2016-11-27                1"
      ]
     },
     "execution_count": 46,
     "metadata": {},
     "output_type": "execute_result"
    }
   ],
   "source": [
    "sql=\"\"\"\n",
    "    select project, created_at::date as created_at,count(a.issue_id) as number_of_issue\n",
    "    from fcp.git_issue a \n",
    "    \n",
    "    where project in('pytorch','tensorflow')\n",
    "    group by 1,2\n",
    "    order by 1,2\n",
    "\"\"\"\n",
    "\n",
    "df_issue=pd.read_sql(sql,connection)\n",
    "df_issue['created_at']=pd.to_datetime(df_issue['created_at'])\n",
    "df_issue.head()"
   ]
  },
  {
   "cell_type": "code",
   "execution_count": 47,
   "id": "ee265c34",
   "metadata": {},
   "outputs": [
    {
     "data": {
      "image/png": "[encoded data removed]",
      "text/plain": [
       "<Figure size 576x360 with 1 Axes>"
      ]
     },
     "metadata": {
      "needs_background": "light"
     },
     "output_type": "display_data"
    },
    {
     "data": {
      "image/png": "[encoded data removed]",
      "text/plain": [
       "<Figure size 576x360 with 1 Axes>"
      ]
     },
     "metadata": {
      "needs_background": "light"
     },
     "output_type": "display_data"
    }
   ],
   "source": [
    "plt.figure(figsize=(8,5))\n",
    "sns.lineplot(x=\"created_at\",y='number_of_issue',hue='project', data=df_issue[df_issue['project']=='tensorflow'])\n",
    "plt.title(\"Issues Found of Tensorflow\",fontsize=14)\n",
    "sns.despine()\n",
    "plt.show()\n",
    "\n",
    "plt.figure(figsize=(8,5))\n",
    "sns.lineplot(x=\"created_at\",y='number_of_issue',hue='project', data=df_issue[df_issue['project']=='pytorch'])\n",
    "plt.title(\"Issues Found of Pytorch\",fontsize=14)\n",
    "sns.despine()\n",
    "plt.show()"
   ]
  },
  {
   "cell_type": "markdown",
   "id": "a39f9b25",
   "metadata": {},
   "source": [
    "##### The data of the issue is mainly concerning tensorflow, and less about pytorch. We can see a trend where Tensorflow has a steady increase of issues throughout time and then a steady decline as well up till January 2021.\n",
    "##### It is not clear whether pytorch itself has no issue after 18 years (unlikely), or the issue reporting mechanism has been terminated, or was data not collected in this regard."
   ]
  },
  {
   "cell_type": "markdown",
   "id": "e1360b71",
   "metadata": {},
   "source": [
    "### 3.8.2: Issues fix-time\n",
    "#####  The average time it takes to resolve an issue"
   ]
  },
  {
   "cell_type": "code",
   "execution_count": 48,
   "id": "51959716",
   "metadata": {},
   "outputs": [
    {
     "data": {
      "text/html": [
       "<div>\n",
       "<style scoped>\n",
       "    .dataframe tbody tr th:only-of-type {\n",
       "        vertical-align: middle;\n",
       "    }\n",
       "\n",
       "    .dataframe tbody tr th {\n",
       "        vertical-align: top;\n",
       "    }\n",
       "\n",
       "    .dataframe thead th {\n",
       "        text-align: right;\n",
       "    }\n",
       "</style>\n",
       "<table border=\"1\" class=\"dataframe\">\n",
       "  <thead>\n",
       "    <tr style=\"text-align: right;\">\n",
       "      <th></th>\n",
       "      <th>project</th>\n",
       "      <th>created_at</th>\n",
       "      <th>closed_at</th>\n",
       "      <th>hours</th>\n",
       "    </tr>\n",
       "  </thead>\n",
       "  <tbody>\n",
       "    <tr>\n",
       "      <th>0</th>\n",
       "      <td>pytorch</td>\n",
       "      <td>2017-08-16 05:09:55</td>\n",
       "      <td>2021-01-11 04:38:15</td>\n",
       "      <td>29855</td>\n",
       "    </tr>\n",
       "    <tr>\n",
       "      <th>1</th>\n",
       "      <td>pytorch</td>\n",
       "      <td>2018-05-06 12:29:32</td>\n",
       "      <td>2021-08-12 23:26:10</td>\n",
       "      <td>28666</td>\n",
       "    </tr>\n",
       "    <tr>\n",
       "      <th>2</th>\n",
       "      <td>pytorch</td>\n",
       "      <td>2017-11-15 16:30:52</td>\n",
       "      <td>2018-01-16 19:50:47</td>\n",
       "      <td>1491</td>\n",
       "    </tr>\n",
       "    <tr>\n",
       "      <th>3</th>\n",
       "      <td>pytorch</td>\n",
       "      <td>2018-04-27 09:01:47</td>\n",
       "      <td>2021-01-10 08:49:58</td>\n",
       "      <td>23735</td>\n",
       "    </tr>\n",
       "    <tr>\n",
       "      <th>4</th>\n",
       "      <td>pytorch</td>\n",
       "      <td>2018-01-16 20:01:02</td>\n",
       "      <td>2021-09-06 08:28:40</td>\n",
       "      <td>31884</td>\n",
       "    </tr>\n",
       "  </tbody>\n",
       "</table>\n",
       "</div>"
      ],
      "text/plain": [
       "   project          created_at           closed_at  hours\n",
       "0  pytorch 2017-08-16 05:09:55 2021-01-11 04:38:15  29855\n",
       "1  pytorch 2018-05-06 12:29:32 2021-08-12 23:26:10  28666\n",
       "2  pytorch 2017-11-15 16:30:52 2018-01-16 19:50:47   1491\n",
       "3  pytorch 2018-04-27 09:01:47 2021-01-10 08:49:58  23735\n",
       "4  pytorch 2018-01-16 20:01:02 2021-09-06 08:28:40  31884"
      ]
     },
     "execution_count": 48,
     "metadata": {},
     "output_type": "execute_result"
    }
   ],
   "source": [
    "sql=\"\"\"\n",
    "    select project, created_at,closed_at,extract(epoch from (closed_at-created_at))::integer/3600 as hours\n",
    "    from fcp.git_issue a \n",
    "    \n",
    "    where project in('pytorch','tensorflow')\n",
    "\"\"\"\n",
    "\n",
    "df_issue_fix_hour=pd.read_sql(sql,connection)\n",
    "df_issue_fix_hour.head()"
   ]
  },
  {
   "cell_type": "code",
   "execution_count": 49,
   "id": "c5914580",
   "metadata": {},
   "outputs": [
    {
     "data": {
      "image/png": "[encoded data removed]",
      "text/plain": [
       "<Figure size 576x360 with 1 Axes>"
      ]
     },
     "metadata": {
      "needs_background": "light"
     },
     "output_type": "display_data"
    }
   ],
   "source": [
    "plt.figure(figsize=(8,5))\n",
    "sns.histplot(x=\"hours\", data=df_issue_fix_hour[df_issue_fix_hour['project']=='tensorflow'])\n",
    "plt.title(\"Issues Fix Hours Distribution of Tensorflow\",fontsize=14)\n",
    "sns.despine()\n",
    "plt.show()"
   ]
  },
  {
   "cell_type": "code",
   "execution_count": 50,
   "id": "56bb6aee",
   "metadata": {},
   "outputs": [
    {
     "data": {
      "image/png": "[encoded data removed]",
      "text/plain": [
       "<Figure size 576x360 with 1 Axes>"
      ]
     },
     "metadata": {
      "needs_background": "light"
     },
     "output_type": "display_data"
    }
   ],
   "source": [
    "plt.figure(figsize=(8,5))\n",
    "sns.histplot(x=\"hours\", data=df_issue_fix_hour[df_issue_fix_hour['project']=='pytorch'])\n",
    "plt.title(\"Issues Fix Hours Distribution of Pytorch\",fontsize=14)\n",
    "sns.despine()\n",
    "plt.show()"
   ]
  },
  {
   "cell_type": "markdown",
   "id": "b21ce020",
   "metadata": {},
   "source": [
    "##### Tensorflow hours of resolve on average is much shorter than Pytorch.\n",
    "##### But note: pytorch data itself is relatively small, and we can't rule out that there is a problem with this data(bias). Generally speaking, it is unlikely that a problem will be fixed in a few years."
   ]
  },
  {
   "cell_type": "code",
   "execution_count": 51,
   "id": "ff8eb63c",
   "metadata": {},
   "outputs": [
    {
     "data": {
      "text/html": [
       "<div>\n",
       "<style scoped>\n",
       "    .dataframe tbody tr th:only-of-type {\n",
       "        vertical-align: middle;\n",
       "    }\n",
       "\n",
       "    .dataframe tbody tr th {\n",
       "        vertical-align: top;\n",
       "    }\n",
       "\n",
       "    .dataframe thead th {\n",
       "        text-align: right;\n",
       "    }\n",
       "</style>\n",
       "<table border=\"1\" class=\"dataframe\">\n",
       "  <thead>\n",
       "    <tr style=\"text-align: right;\">\n",
       "      <th></th>\n",
       "      <th>project</th>\n",
       "      <th>avg_hours</th>\n",
       "      <th>avg_days</th>\n",
       "    </tr>\n",
       "  </thead>\n",
       "  <tbody>\n",
       "    <tr>\n",
       "      <th>0</th>\n",
       "      <td>pytorch</td>\n",
       "      <td>12724.308333</td>\n",
       "      <td>529.808333</td>\n",
       "    </tr>\n",
       "    <tr>\n",
       "      <th>1</th>\n",
       "      <td>tensorflow</td>\n",
       "      <td>1093.839236</td>\n",
       "      <td>45.137029</td>\n",
       "    </tr>\n",
       "  </tbody>\n",
       "</table>\n",
       "</div>"
      ],
      "text/plain": [
       "      project     avg_hours    avg_days\n",
       "0     pytorch  12724.308333  529.808333\n",
       "1  tensorflow   1093.839236   45.137029"
      ]
     },
     "execution_count": 51,
     "metadata": {},
     "output_type": "execute_result"
    }
   ],
   "source": [
    "# Add another avg\n",
    "\n",
    "sql=\"\"\"\n",
    "    select project, avg(extract(epoch from (closed_at-created_at))::integer/3600) as avg_hours\n",
    "    , avg(extract(epoch from (closed_at-created_at))::integer/3600/24) as avg_days\n",
    "    from fcp.git_issue a \n",
    "    where project in('pytorch','tensorflow')\n",
    "    group by 1\n",
    "\"\"\"\n",
    "\n",
    "pd.read_sql(sql,connection)\n"
   ]
  },
  {
   "cell_type": "markdown",
   "id": "eb954ee5",
   "metadata": {},
   "source": [
    "### 3.8.3: Users that report the most issues\n",
    "##### Lets see which developers find more bugs"
   ]
  },
  {
   "cell_type": "code",
   "execution_count": 52,
   "id": "e6dd50b9",
   "metadata": {},
   "outputs": [
    {
     "data": {
      "text/html": [
       "<div>\n",
       "<style scoped>\n",
       "    .dataframe tbody tr th:only-of-type {\n",
       "        vertical-align: middle;\n",
       "    }\n",
       "\n",
       "    .dataframe tbody tr th {\n",
       "        vertical-align: top;\n",
       "    }\n",
       "\n",
       "    .dataframe thead th {\n",
       "        text-align: right;\n",
       "    }\n",
       "</style>\n",
       "<table border=\"1\" class=\"dataframe\">\n",
       "  <thead>\n",
       "    <tr style=\"text-align: right;\">\n",
       "      <th></th>\n",
       "      <th>project</th>\n",
       "      <th>user</th>\n",
       "      <th>number_of_issue</th>\n",
       "      <th>rnk</th>\n",
       "    </tr>\n",
       "  </thead>\n",
       "  <tbody>\n",
       "    <tr>\n",
       "      <th>0</th>\n",
       "      <td>pytorch</td>\n",
       "      <td>ezyang</td>\n",
       "      <td>4</td>\n",
       "      <td>1</td>\n",
       "    </tr>\n",
       "    <tr>\n",
       "      <th>1</th>\n",
       "      <td>pytorch</td>\n",
       "      <td>SsnL</td>\n",
       "      <td>3</td>\n",
       "      <td>2</td>\n",
       "    </tr>\n",
       "    <tr>\n",
       "      <th>2</th>\n",
       "      <td>pytorch</td>\n",
       "      <td>antspy</td>\n",
       "      <td>2</td>\n",
       "      <td>3</td>\n",
       "    </tr>\n",
       "    <tr>\n",
       "      <th>3</th>\n",
       "      <td>pytorch</td>\n",
       "      <td>glample</td>\n",
       "      <td>2</td>\n",
       "      <td>3</td>\n",
       "    </tr>\n",
       "    <tr>\n",
       "      <th>4</th>\n",
       "      <td>pytorch</td>\n",
       "      <td>soumith</td>\n",
       "      <td>2</td>\n",
       "      <td>3</td>\n",
       "    </tr>\n",
       "  </tbody>\n",
       "</table>\n",
       "</div>"
      ],
      "text/plain": [
       "   project     user  number_of_issue  rnk\n",
       "0  pytorch   ezyang                4    1\n",
       "1  pytorch     SsnL                3    2\n",
       "2  pytorch   antspy                2    3\n",
       "3  pytorch  glample                2    3\n",
       "4  pytorch  soumith                2    3"
      ]
     },
     "execution_count": 52,
     "metadata": {},
     "output_type": "execute_result"
    }
   ],
   "source": [
    "sql=\"\"\"\n",
    "select *\n",
    "from\n",
    "(\n",
    "    select project, \"user\",count(issue_id) as number_of_issue\n",
    "    ,rank()over(partition by project order by count(issue_id) desc) as rnk\n",
    "    from fcp.git_issue\n",
    "    where project in('pytorch','tensorflow')\n",
    "    group by 1,2\n",
    ") tmp\n",
    "where rnk<=5\n",
    "\"\"\"\n",
    "\n",
    "df_top5_issue_finder=pd.read_sql(sql,connection)\n",
    "df_top5_issue_finder.head()"
   ]
  },
  {
   "cell_type": "code",
   "execution_count": 53,
   "id": "b58be3cb",
   "metadata": {},
   "outputs": [
    {
     "data": {
      "image/png": "[encoded data removed]",
      "text/plain": [
       "<Figure size 576x360 with 1 Axes>"
      ]
     },
     "metadata": {
      "needs_background": "light"
     },
     "output_type": "display_data"
    }
   ],
   "source": [
    "plt.figure(figsize=(8,5))\n",
    "sns.barplot(y=\"user\",x='number_of_issue', data=df_top5_issue_finder[df_top5_issue_finder[\"project\"]=='pytorch'])\n",
    "plt.title(\"Top 5 Issue Finder of Torch Project\",fontsize=14)\n",
    "sns.despine()"
   ]
  },
  {
   "cell_type": "code",
   "execution_count": 54,
   "id": "1db833a0",
   "metadata": {},
   "outputs": [
    {
     "data": {
      "image/png": "[encoded data removed]",
      "text/plain": [
       "<Figure size 576x360 with 1 Axes>"
      ]
     },
     "metadata": {
      "needs_background": "light"
     },
     "output_type": "display_data"
    }
   ],
   "source": [
    "plt.figure(figsize=(8,5))\n",
    "sns.barplot(y=\"user\",x='number_of_issue', data=df_top5_issue_finder[df_top5_issue_finder[\"project\"]=='tensorflow'])\n",
    "plt.title(\"Top 5 Issue Finder of TensorFlow Project\",fontsize=14)\n",
    "sns.despine()"
   ]
  },
  {
   "cell_type": "markdown",
   "id": "76b680f8",
   "metadata": {},
   "source": [
    "##### We can see a trend with both Tensorflow and Pytorch, there usually is one developer that finds the more issues than the other developers in both Tensorflow and Pytorch."
   ]
  },
  {
   "cell_type": "markdown",
   "id": "0d936e44",
   "metadata": {},
   "source": [
    "### 3.8.4: Users that close the most issues"
   ]
  },
  {
   "cell_type": "code",
   "execution_count": 55,
   "id": "f269a7a2",
   "metadata": {},
   "outputs": [
    {
     "data": {
      "text/html": [
       "<div>\n",
       "<style scoped>\n",
       "    .dataframe tbody tr th:only-of-type {\n",
       "        vertical-align: middle;\n",
       "    }\n",
       "\n",
       "    .dataframe tbody tr th {\n",
       "        vertical-align: top;\n",
       "    }\n",
       "\n",
       "    .dataframe thead th {\n",
       "        text-align: right;\n",
       "    }\n",
       "</style>\n",
       "<table border=\"1\" class=\"dataframe\">\n",
       "  <thead>\n",
       "    <tr style=\"text-align: right;\">\n",
       "      <th></th>\n",
       "      <th>project</th>\n",
       "      <th>closed_by</th>\n",
       "      <th>number_of_issue</th>\n",
       "      <th>rnk</th>\n",
       "    </tr>\n",
       "  </thead>\n",
       "  <tbody>\n",
       "    <tr>\n",
       "      <th>0</th>\n",
       "      <td>pytorch</td>\n",
       "      <td>Adam Paszke</td>\n",
       "      <td>25</td>\n",
       "      <td>1</td>\n",
       "    </tr>\n",
       "    <tr>\n",
       "      <th>1</th>\n",
       "      <td>pytorch</td>\n",
       "      <td>Soumith Chintala</td>\n",
       "      <td>22</td>\n",
       "      <td>2</td>\n",
       "    </tr>\n",
       "    <tr>\n",
       "      <th>2</th>\n",
       "      <td>pytorch</td>\n",
       "      <td>Mike Ruberry</td>\n",
       "      <td>19</td>\n",
       "      <td>3</td>\n",
       "    </tr>\n",
       "    <tr>\n",
       "      <th>3</th>\n",
       "      <td>pytorch</td>\n",
       "      <td>Facebook Community Bot</td>\n",
       "      <td>8</td>\n",
       "      <td>4</td>\n",
       "    </tr>\n",
       "    <tr>\n",
       "      <th>4</th>\n",
       "      <td>pytorch</td>\n",
       "      <td>Gary Miguel</td>\n",
       "      <td>8</td>\n",
       "      <td>4</td>\n",
       "    </tr>\n",
       "  </tbody>\n",
       "</table>\n",
       "</div>"
      ],
      "text/plain": [
       "   project               closed_by  number_of_issue  rnk\n",
       "0  pytorch             Adam Paszke               25    1\n",
       "1  pytorch        Soumith Chintala               22    2\n",
       "2  pytorch            Mike Ruberry               19    3\n",
       "3  pytorch  Facebook Community Bot                8    4\n",
       "4  pytorch             Gary Miguel                8    4"
      ]
     },
     "execution_count": 55,
     "metadata": {},
     "output_type": "execute_result"
    }
   ],
   "source": [
    "sql=\"\"\"\n",
    "select *\n",
    "from\n",
    "(\n",
    "    select project, closed_by,count(issue_id) as number_of_issue\n",
    "    ,rank()over(partition by project order by count(issue_id) desc) as rnk\n",
    "    from fcp.git_issue\n",
    "    where project in('pytorch','tensorflow')\n",
    "    and closed_by !='NaN'\n",
    "    group by 1,2\n",
    ") tmp\n",
    "where rnk<=5\n",
    "\"\"\"\n",
    "\n",
    "df_top5_issue_closer=pd.read_sql(sql,connection)\n",
    "df_top5_issue_closer.head()"
   ]
  },
  {
   "cell_type": "code",
   "execution_count": 56,
   "id": "3b8689cd",
   "metadata": {},
   "outputs": [
    {
     "data": {
      "image/png": "[encoded data removed]",
      "text/plain": [
       "<Figure size 576x360 with 1 Axes>"
      ]
     },
     "metadata": {
      "needs_background": "light"
     },
     "output_type": "display_data"
    }
   ],
   "source": [
    "plt.figure(figsize=(8,5))\n",
    "sns.barplot(y=\"closed_by\",x='number_of_issue', data=df_top5_issue_closer[df_top5_issue_closer[\"project\"]=='pytorch'])\n",
    "plt.title(\"Top 5 Issue Closer of Torch Project\",fontsize=14)\n",
    "sns.despine()"
   ]
  },
  {
   "cell_type": "code",
   "execution_count": 57,
   "id": "8ba86827",
   "metadata": {},
   "outputs": [
    {
     "data": {
      "image/png": "[encoded data removed]",
      "text/plain": [
       "<Figure size 576x360 with 1 Axes>"
      ]
     },
     "metadata": {
      "needs_background": "light"
     },
     "output_type": "display_data"
    }
   ],
   "source": [
    "plt.figure(figsize=(8,5))\n",
    "sns.barplot(y=\"closed_by\",x='number_of_issue', data=df_top5_issue_closer[df_top5_issue_closer[\"project\"]=='tensorflow'])\n",
    "plt.title(\"Top 5 Issue Closer of Tensorflow Project\",fontsize=14)\n",
    "sns.despine()"
   ]
  },
  {
   "cell_type": "markdown",
   "id": "9a5f4dfd",
   "metadata": {},
   "source": [
    "##### For Tensorflow it is similar to part 3.8.3 where one developer closes / solves the most issues compared to the rest. Interestingly, for PyTorch there are 3 developers that close an almost equal amount of issues."
   ]
  },
  {
   "cell_type": "markdown",
   "id": "8d484f44",
   "metadata": {},
   "source": [
    "### 3.8.5: Top issue commenter"
   ]
  },
  {
   "cell_type": "code",
   "execution_count": 58,
   "id": "ede2e880",
   "metadata": {},
   "outputs": [
    {
     "data": {
      "text/html": [
       "<div>\n",
       "<style scoped>\n",
       "    .dataframe tbody tr th:only-of-type {\n",
       "        vertical-align: middle;\n",
       "    }\n",
       "\n",
       "    .dataframe tbody tr th {\n",
       "        vertical-align: top;\n",
       "    }\n",
       "\n",
       "    .dataframe thead th {\n",
       "        text-align: right;\n",
       "    }\n",
       "</style>\n",
       "<table border=\"1\" class=\"dataframe\">\n",
       "  <thead>\n",
       "    <tr style=\"text-align: right;\">\n",
       "      <th></th>\n",
       "      <th>project</th>\n",
       "      <th>comment_user</th>\n",
       "      <th>number_of_comment</th>\n",
       "      <th>rnk</th>\n",
       "    </tr>\n",
       "  </thead>\n",
       "  <tbody>\n",
       "    <tr>\n",
       "      <th>0</th>\n",
       "      <td>pytorch</td>\n",
       "      <td>soumith</td>\n",
       "      <td>84</td>\n",
       "      <td>1</td>\n",
       "    </tr>\n",
       "    <tr>\n",
       "      <th>1</th>\n",
       "      <td>pytorch</td>\n",
       "      <td>apaszke</td>\n",
       "      <td>80</td>\n",
       "      <td>2</td>\n",
       "    </tr>\n",
       "    <tr>\n",
       "      <th>2</th>\n",
       "      <td>pytorch</td>\n",
       "      <td>ezyang</td>\n",
       "      <td>42</td>\n",
       "      <td>3</td>\n",
       "    </tr>\n",
       "    <tr>\n",
       "      <th>3</th>\n",
       "      <td>pytorch</td>\n",
       "      <td>kurtamohler</td>\n",
       "      <td>38</td>\n",
       "      <td>4</td>\n",
       "    </tr>\n",
       "    <tr>\n",
       "      <th>4</th>\n",
       "      <td>pytorch</td>\n",
       "      <td>mruberry</td>\n",
       "      <td>31</td>\n",
       "      <td>5</td>\n",
       "    </tr>\n",
       "  </tbody>\n",
       "</table>\n",
       "</div>"
      ],
      "text/plain": [
       "   project comment_user  number_of_comment  rnk\n",
       "0  pytorch      soumith                 84    1\n",
       "1  pytorch      apaszke                 80    2\n",
       "2  pytorch       ezyang                 42    3\n",
       "3  pytorch  kurtamohler                 38    4\n",
       "4  pytorch     mruberry                 31    5"
      ]
     },
     "execution_count": 58,
     "metadata": {},
     "output_type": "execute_result"
    }
   ],
   "source": [
    "sql=\"\"\"\n",
    "select *\n",
    "from\n",
    "(\n",
    "    select project, comment_user,count(comment_id) as number_of_comment\n",
    "    ,rank()over(partition by project order by count(comment_id) desc) as rnk\n",
    "    from fcp.git_issue a \n",
    "    join fcp.git_issue_comment b\n",
    "    on a.issue_id=b.issue_id\n",
    "    \n",
    "    where project in('pytorch','tensorflow')\n",
    "    group by 1,2\n",
    ") tmp\n",
    "where rnk<=5\n",
    "\"\"\"\n",
    "\n",
    "df_top5_issue_commenter=pd.read_sql(sql,connection)\n",
    "df_top5_issue_commenter.head()"
   ]
  },
  {
   "cell_type": "code",
   "execution_count": 59,
   "id": "298e83bd",
   "metadata": {},
   "outputs": [
    {
     "data": {
      "image/png": "[encoded data removed]",
      "text/plain": [
       "<Figure size 576x360 with 1 Axes>"
      ]
     },
     "metadata": {
      "needs_background": "light"
     },
     "output_type": "display_data"
    }
   ],
   "source": [
    "plt.figure(figsize=(8,5))\n",
    "sns.barplot(y=\"comment_user\",x='number_of_comment', data=df_top5_issue_commenter[df_top5_issue_commenter[\"project\"]=='pytorch'])\n",
    "plt.title(\"Top 5 Issue Commenter of Torch Project\",fontsize=14)\n",
    "sns.despine()"
   ]
  },
  {
   "cell_type": "code",
   "execution_count": 60,
   "id": "75c06cb2",
   "metadata": {},
   "outputs": [
    {
     "data": {
      "image/png": "[encoded data removed]",
      "text/plain": [
       "<Figure size 576x360 with 1 Axes>"
      ]
     },
     "metadata": {
      "needs_background": "light"
     },
     "output_type": "display_data"
    }
   ],
   "source": [
    "plt.figure(figsize=(8,5))\n",
    "sns.barplot(y=\"comment_user\",x='number_of_comment', data=df_top5_issue_commenter[df_top5_issue_commenter[\"project\"]=='tensorflow'])\n",
    "plt.title(\"Top 5 Issue Commenter of Tensorflow Project\",fontsize=14)\n",
    "sns.despine()"
   ]
  },
  {
   "cell_type": "markdown",
   "id": "c93283a3",
   "metadata": {},
   "source": [
    "### 3.8.6: Top issue labels\n",
    "##### Lets look at the label of these bugs"
   ]
  },
  {
   "cell_type": "code",
   "execution_count": 61,
   "id": "919bd941",
   "metadata": {},
   "outputs": [
    {
     "data": {
      "text/html": [
       "<div>\n",
       "<style scoped>\n",
       "    .dataframe tbody tr th:only-of-type {\n",
       "        vertical-align: middle;\n",
       "    }\n",
       "\n",
       "    .dataframe tbody tr th {\n",
       "        vertical-align: top;\n",
       "    }\n",
       "\n",
       "    .dataframe thead th {\n",
       "        text-align: right;\n",
       "    }\n",
       "</style>\n",
       "<table border=\"1\" class=\"dataframe\">\n",
       "  <thead>\n",
       "    <tr style=\"text-align: right;\">\n",
       "      <th></th>\n",
       "      <th>project</th>\n",
       "      <th>label</th>\n",
       "      <th>number_of_issue</th>\n",
       "      <th>rnk</th>\n",
       "    </tr>\n",
       "  </thead>\n",
       "  <tbody>\n",
       "    <tr>\n",
       "      <th>0</th>\n",
       "      <td>pytorch</td>\n",
       "      <td>triaged</td>\n",
       "      <td>43</td>\n",
       "      <td>1</td>\n",
       "    </tr>\n",
       "    <tr>\n",
       "      <th>1</th>\n",
       "      <td>pytorch</td>\n",
       "      <td>highpriority</td>\n",
       "      <td>11</td>\n",
       "      <td>2</td>\n",
       "    </tr>\n",
       "    <tr>\n",
       "      <th>2</th>\n",
       "      <td>pytorch</td>\n",
       "      <td>module:onnx</td>\n",
       "      <td>9</td>\n",
       "      <td>3</td>\n",
       "    </tr>\n",
       "    <tr>\n",
       "      <th>3</th>\n",
       "      <td>pytorch</td>\n",
       "      <td>feature</td>\n",
       "      <td>8</td>\n",
       "      <td>4</td>\n",
       "    </tr>\n",
       "    <tr>\n",
       "      <th>4</th>\n",
       "      <td>pytorch</td>\n",
       "      <td>opensource</td>\n",
       "      <td>7</td>\n",
       "      <td>5</td>\n",
       "    </tr>\n",
       "  </tbody>\n",
       "</table>\n",
       "</div>"
      ],
      "text/plain": [
       "   project         label  number_of_issue  rnk\n",
       "0  pytorch       triaged               43    1\n",
       "1  pytorch  highpriority               11    2\n",
       "2  pytorch   module:onnx                9    3\n",
       "3  pytorch       feature                8    4\n",
       "4  pytorch    opensource                7    5"
      ]
     },
     "execution_count": 61,
     "metadata": {},
     "output_type": "execute_result"
    }
   ],
   "source": [
    "sql=\"\"\"\n",
    "select *\n",
    "from\n",
    "(\n",
    "    select project,label,count(*) as number_of_issue\n",
    "    ,rank()over(partition by project order by count(*) desc) as rnk\n",
    "    from\n",
    "    (\n",
    "        select project, unnest(string_to_array(replace(replace(replace(replace(labels,' ',''),'''',''),'[',''),']',''),',')) as label\n",
    "        from fcp.git_issue\n",
    "        where project in('pytorch','tensorflow')\n",
    "    )tmp\n",
    "    group by 1,2\n",
    ") tmp\n",
    "where rnk<=10\n",
    "\"\"\"\n",
    "\n",
    "df_top5_issue_label=pd.read_sql(sql,connection)\n",
    "df_top5_issue_label.head()"
   ]
  },
  {
   "cell_type": "code",
   "execution_count": 62,
   "id": "7829c4d8",
   "metadata": {},
   "outputs": [
    {
     "data": {
      "image/png": "[encoded data removed]",
      "text/plain": [
       "<Figure size 576x360 with 1 Axes>"
      ]
     },
     "metadata": {
      "needs_background": "light"
     },
     "output_type": "display_data"
    }
   ],
   "source": [
    "plt.figure(figsize=(8,5))\n",
    "sns.barplot(y=\"label\",x='number_of_issue', data=df_top5_issue_label[df_top5_issue_label[\"project\"]=='pytorch'])\n",
    "plt.title(\"Top 5 Issue Label of Torch Project\",fontsize=14)\n",
    "sns.despine()"
   ]
  },
  {
   "cell_type": "code",
   "execution_count": 63,
   "id": "c0a3436f",
   "metadata": {},
   "outputs": [
    {
     "data": {
      "image/png": "[encoded data removed]",
      "text/plain": [
       "<Figure size 576x360 with 1 Axes>"
      ]
     },
     "metadata": {
      "needs_background": "light"
     },
     "output_type": "display_data"
    }
   ],
   "source": [
    "plt.figure(figsize=(8,5))\n",
    "sns.barplot(y=\"label\",x='number_of_issue', data=df_top5_issue_label[df_top5_issue_label[\"project\"]=='tensorflow'])\n",
    "plt.title(\"Top 5 Issue Label of Tensorflow Project\",fontsize=14)\n",
    "sns.despine()"
   ]
  },
  {
   "cell_type": "markdown",
   "id": "56b30ab2",
   "metadata": {},
   "source": [
    "# Part 4 (PySpark)\n",
    "### *Task 3 of the assignment*\n",
    "###### [Back to TOC](#table-of-contents)"
   ]
  },
  {
   "cell_type": "markdown",
   "id": "43e948c9",
   "metadata": {},
   "source": [
    "##### Here we use pyspark for machine learning, to predict the upcoming weeks \"issues\" count for tensorflow\n",
    "##### This is a regression model"
   ]
  },
  {
   "cell_type": "code",
   "execution_count": 64,
   "id": "5c471e10",
   "metadata": {},
   "outputs": [],
   "source": [
    "import pandas as pd\n",
    "import psycopg2\n",
    "import matplotlib.pyplot as plt\n",
    "import seaborn as sns\n",
    "\n",
    "from pyspark.sql import SparkSession\n",
    "import pyspark.sql.functions as F\n",
    "from pyspark.sql.types import *\n",
    "from pyspark.ml.feature import VectorAssembler\n",
    "from pyspark.ml.regression import LinearRegression\n",
    "\n",
    "pd.set_option(\"display.max_columns\",None)\n",
    "sns.set_palette('Set2')\n",
    "sns.set_style('white')"
   ]
  },
  {
   "cell_type": "code",
   "execution_count": 65,
   "id": "9054e56e",
   "metadata": {},
   "outputs": [],
   "source": [
    "spark = SparkSession.builder.appName('predict_project').getOrCreate()"
   ]
  },
  {
   "cell_type": "markdown",
   "id": "9b702198",
   "metadata": {},
   "source": [
    "## 4.1: Prepare weekly issue aggregation"
   ]
  },
  {
   "cell_type": "code",
   "execution_count": 66,
   "id": "16abcbd4",
   "metadata": {},
   "outputs": [
    {
     "data": {
      "text/html": [
       "<div>\n",
       "<style scoped>\n",
       "    .dataframe tbody tr th:only-of-type {\n",
       "        vertical-align: middle;\n",
       "    }\n",
       "\n",
       "    .dataframe tbody tr th {\n",
       "        vertical-align: top;\n",
       "    }\n",
       "\n",
       "    .dataframe thead th {\n",
       "        text-align: right;\n",
       "    }\n",
       "</style>\n",
       "<table border=\"1\" class=\"dataframe\">\n",
       "  <thead>\n",
       "    <tr style=\"text-align: right;\">\n",
       "      <th></th>\n",
       "      <th>issue_week</th>\n",
       "      <th>number_of_issue</th>\n",
       "    </tr>\n",
       "  </thead>\n",
       "  <tbody>\n",
       "    <tr>\n",
       "      <th>0</th>\n",
       "      <td>2020-30</td>\n",
       "      <td>4</td>\n",
       "    </tr>\n",
       "    <tr>\n",
       "      <th>1</th>\n",
       "      <td>2020-31</td>\n",
       "      <td>33</td>\n",
       "    </tr>\n",
       "    <tr>\n",
       "      <th>2</th>\n",
       "      <td>2020-32</td>\n",
       "      <td>34</td>\n",
       "    </tr>\n",
       "    <tr>\n",
       "      <th>3</th>\n",
       "      <td>2020-33</td>\n",
       "      <td>33</td>\n",
       "    </tr>\n",
       "    <tr>\n",
       "      <th>4</th>\n",
       "      <td>2020-34</td>\n",
       "      <td>25</td>\n",
       "    </tr>\n",
       "  </tbody>\n",
       "</table>\n",
       "</div>"
      ],
      "text/plain": [
       "  issue_week  number_of_issue\n",
       "0    2020-30                4\n",
       "1    2020-31               33\n",
       "2    2020-32               34\n",
       "3    2020-33               33\n",
       "4    2020-34               25"
      ]
     },
     "execution_count": 66,
     "metadata": {},
     "output_type": "execute_result"
    }
   ],
   "source": [
    "sql=\"\"\"\n",
    "    select to_char(created_at::date,'IYYY-IW') as issue_week,count(a.issue_id) as number_of_issue\n",
    "    from fcp.git_issue a \n",
    "    \n",
    "    where project in('tensorflow')\n",
    "    group by 1\n",
    "    order by 1\n",
    "\"\"\"\n",
    "\n",
    "df_tf_weekly_issue=pd.read_sql(sql,connection)\n",
    "df_tf_weekly_issue.head()\n",
    "\n",
    "#2020-30 means week 30 of 2020\n",
    "#Let's aggregate the data into weeks. daily fluctuation may be too large."
   ]
  },
  {
   "cell_type": "code",
   "execution_count": 67,
   "id": "76e8ba0f",
   "metadata": {},
   "outputs": [
    {
     "data": {
      "text/plain": [
       "(76, 2)"
      ]
     },
     "execution_count": 67,
     "metadata": {},
     "output_type": "execute_result"
    }
   ],
   "source": [
    "# the data is a bit small, but its enough to do a osl model\n",
    "\n",
    "df_tf_weekly_issue.shape"
   ]
  },
  {
   "cell_type": "code",
   "execution_count": 68,
   "id": "92836acb",
   "metadata": {},
   "outputs": [
    {
     "data": {
      "image/png": "[encoded data removed]",
      "text/plain": [
       "<Figure size 864x360 with 1 Axes>"
      ]
     },
     "metadata": {},
     "output_type": "display_data"
    }
   ],
   "source": [
    "# plot issue trend\n",
    "\n",
    "plt.figure(figsize=(12,5))\n",
    "sns.lineplot(x=\"issue_week\",y='number_of_issue',marker=\"o\", data=df_tf_weekly_issue)\n",
    "plt.title(\"Weekly Issues Found of Tensorflow\",fontsize=14)\n",
    "plt.xticks(rotation=-90,fontsize=8)\n",
    "plt.grid(alpha=0.25)\n",
    "sns.despine()\n",
    "plt.show()"
   ]
  },
  {
   "cell_type": "markdown",
   "id": "402501c8",
   "metadata": {},
   "source": [
    "## 4.2: Prepare model dataset\n",
    "+ We are using the number of issues in the past 5 weeks to predict the number of issues next week"
   ]
  },
  {
   "cell_type": "code",
   "execution_count": 69,
   "id": "a25a7f2b",
   "metadata": {},
   "outputs": [
    {
     "data": {
      "text/html": [
       "<div>\n",
       "<style scoped>\n",
       "    .dataframe tbody tr th:only-of-type {\n",
       "        vertical-align: middle;\n",
       "    }\n",
       "\n",
       "    .dataframe tbody tr th {\n",
       "        vertical-align: top;\n",
       "    }\n",
       "\n",
       "    .dataframe thead th {\n",
       "        text-align: right;\n",
       "    }\n",
       "</style>\n",
       "<table border=\"1\" class=\"dataframe\">\n",
       "  <thead>\n",
       "    <tr style=\"text-align: right;\">\n",
       "      <th></th>\n",
       "      <th>issue_week</th>\n",
       "      <th>label</th>\n",
       "      <th>n_issue_pre_1</th>\n",
       "      <th>n_issue_pre_2</th>\n",
       "      <th>n_issue_pre_3</th>\n",
       "      <th>n_issue_pre_4</th>\n",
       "      <th>n_issue_pre_5</th>\n",
       "    </tr>\n",
       "  </thead>\n",
       "  <tbody>\n",
       "    <tr>\n",
       "      <th>5</th>\n",
       "      <td>2020-35</td>\n",
       "      <td>33</td>\n",
       "      <td>25.0</td>\n",
       "      <td>33.0</td>\n",
       "      <td>34.0</td>\n",
       "      <td>33.0</td>\n",
       "      <td>4.0</td>\n",
       "    </tr>\n",
       "    <tr>\n",
       "      <th>6</th>\n",
       "      <td>2020-36</td>\n",
       "      <td>23</td>\n",
       "      <td>33.0</td>\n",
       "      <td>25.0</td>\n",
       "      <td>33.0</td>\n",
       "      <td>34.0</td>\n",
       "      <td>33.0</td>\n",
       "    </tr>\n",
       "    <tr>\n",
       "      <th>7</th>\n",
       "      <td>2020-37</td>\n",
       "      <td>25</td>\n",
       "      <td>23.0</td>\n",
       "      <td>33.0</td>\n",
       "      <td>25.0</td>\n",
       "      <td>33.0</td>\n",
       "      <td>34.0</td>\n",
       "    </tr>\n",
       "    <tr>\n",
       "      <th>8</th>\n",
       "      <td>2020-38</td>\n",
       "      <td>26</td>\n",
       "      <td>25.0</td>\n",
       "      <td>23.0</td>\n",
       "      <td>33.0</td>\n",
       "      <td>25.0</td>\n",
       "      <td>33.0</td>\n",
       "    </tr>\n",
       "    <tr>\n",
       "      <th>9</th>\n",
       "      <td>2020-39</td>\n",
       "      <td>26</td>\n",
       "      <td>26.0</td>\n",
       "      <td>25.0</td>\n",
       "      <td>23.0</td>\n",
       "      <td>33.0</td>\n",
       "      <td>25.0</td>\n",
       "    </tr>\n",
       "  </tbody>\n",
       "</table>\n",
       "</div>"
      ],
      "text/plain": [
       "  issue_week  label  n_issue_pre_1  n_issue_pre_2  n_issue_pre_3  \\\n",
       "5    2020-35     33           25.0           33.0           34.0   \n",
       "6    2020-36     23           33.0           25.0           33.0   \n",
       "7    2020-37     25           23.0           33.0           25.0   \n",
       "8    2020-38     26           25.0           23.0           33.0   \n",
       "9    2020-39     26           26.0           25.0           23.0   \n",
       "\n",
       "   n_issue_pre_4  n_issue_pre_5  \n",
       "5           33.0            4.0  \n",
       "6           34.0           33.0  \n",
       "7           33.0           34.0  \n",
       "8           25.0           33.0  \n",
       "9           33.0           25.0  "
      ]
     },
     "execution_count": 69,
     "metadata": {},
     "output_type": "execute_result"
    }
   ],
   "source": [
    "# Use shift to generate the number of issues for the past 5 weeks as features\n",
    "\n",
    "for i in range(1,6):\n",
    "    df_tf_weekly_issue[\"n_issue_pre_{}\".format(i)]=df_tf_weekly_issue[\"number_of_issue\"].shift(i)\n",
    "    \n",
    "df_tf_weekly_issue=df_tf_weekly_issue.dropna()\n",
    "df_tf_weekly_issue=df_tf_weekly_issue.rename(columns={'number_of_issue': 'label'})\n",
    "df_tf_weekly_issue.head()"
   ]
  },
  {
   "cell_type": "markdown",
   "id": "2c46d645",
   "metadata": {},
   "source": [
    "## 4.3: Generating a feature vector"
   ]
  },
  {
   "cell_type": "code",
   "execution_count": 70,
   "id": "cd5fb944",
   "metadata": {
    "scrolled": true
   },
   "outputs": [
    {
     "name": "stdout",
     "output_type": "stream",
     "text": [
      "+----------+-----+-------------+-------------+-------------+-------------+-------------+--------------------+\n",
      "|issue_week|label|n_issue_pre_1|n_issue_pre_2|n_issue_pre_3|n_issue_pre_4|n_issue_pre_5|            features|\n",
      "+----------+-----+-------------+-------------+-------------+-------------+-------------+--------------------+\n",
      "|   2020-35|   33|         25.0|         33.0|         34.0|         33.0|          4.0|[25.0,33.0,34.0,3...|\n",
      "|   2020-36|   23|         33.0|         25.0|         33.0|         34.0|         33.0|[33.0,25.0,33.0,3...|\n",
      "|   2020-37|   25|         23.0|         33.0|         25.0|         33.0|         34.0|[23.0,33.0,25.0,3...|\n",
      "|   2020-38|   26|         25.0|         23.0|         33.0|         25.0|         33.0|[25.0,23.0,33.0,2...|\n",
      "|   2020-39|   26|         26.0|         25.0|         23.0|         33.0|         25.0|[26.0,25.0,23.0,3...|\n",
      "+----------+-----+-------------+-------------+-------------+-------------+-------------+--------------------+\n",
      "only showing top 5 rows\n",
      "\n"
     ]
    }
   ],
   "source": [
    "df=spark.createDataFrame(df_tf_weekly_issue)\n",
    "\n",
    "vecAssembler = VectorAssembler(outputCol=\"features\")\n",
    "vecAssembler.setInputCols([\"n_issue_pre_1\", \"n_issue_pre_2\", \"n_issue_pre_3\", \"n_issue_pre_4\", \"n_issue_pre_5\"])\n",
    "\n",
    "df=vecAssembler.transform(df)\n",
    "                          \n",
    "df.show(5)"
   ]
  },
  {
   "cell_type": "markdown",
   "id": "ff85aa8e",
   "metadata": {},
   "source": [
    "## 4.4: Fitting a linear regression model"
   ]
  },
  {
   "cell_type": "code",
   "execution_count": 71,
   "id": "18c18d33",
   "metadata": {},
   "outputs": [],
   "source": [
    "lr = LinearRegression(regParam=0.0, solver=\"normal\")\n",
    "model = lr.fit(df)"
   ]
  },
  {
   "cell_type": "code",
   "execution_count": 72,
   "id": "c394c147",
   "metadata": {},
   "outputs": [
    {
     "data": {
      "text/plain": [
       "(4.100936829227752, DenseVector([0.7008, 0.0167, 0.306, -0.0587, -0.024]))"
      ]
     },
     "execution_count": 72,
     "metadata": {},
     "output_type": "execute_result"
    }
   ],
   "source": [
    "# ols intercept coefficients\n",
    "\n",
    "model.intercept,model.coefficients"
   ]
  },
  {
   "cell_type": "markdown",
   "id": "d702fa9d",
   "metadata": {},
   "source": [
    "## 4.5: Preparing prediction features\n",
    "##### using the last 5 weeks as x, we use the model to predict the number of issues"
   ]
  },
  {
   "cell_type": "code",
   "execution_count": 73,
   "id": "c5d0cd61",
   "metadata": {},
   "outputs": [
    {
     "data": {
      "text/html": [
       "<div>\n",
       "<style scoped>\n",
       "    .dataframe tbody tr th:only-of-type {\n",
       "        vertical-align: middle;\n",
       "    }\n",
       "\n",
       "    .dataframe tbody tr th {\n",
       "        vertical-align: top;\n",
       "    }\n",
       "\n",
       "    .dataframe thead th {\n",
       "        text-align: right;\n",
       "    }\n",
       "</style>\n",
       "<table border=\"1\" class=\"dataframe\">\n",
       "  <thead>\n",
       "    <tr style=\"text-align: right;\">\n",
       "      <th></th>\n",
       "      <th>issue_week</th>\n",
       "      <th>label</th>\n",
       "      <th>n_issue_pre_1</th>\n",
       "      <th>n_issue_pre_2</th>\n",
       "      <th>n_issue_pre_3</th>\n",
       "      <th>n_issue_pre_4</th>\n",
       "      <th>n_issue_pre_5</th>\n",
       "    </tr>\n",
       "  </thead>\n",
       "  <tbody>\n",
       "    <tr>\n",
       "      <th>75</th>\n",
       "      <td>2021-52</td>\n",
       "      <td>10</td>\n",
       "      <td>13.0</td>\n",
       "      <td>33.0</td>\n",
       "      <td>38.0</td>\n",
       "      <td>42.0</td>\n",
       "      <td>41.0</td>\n",
       "    </tr>\n",
       "  </tbody>\n",
       "</table>\n",
       "</div>"
      ],
      "text/plain": [
       "   issue_week  label  n_issue_pre_1  n_issue_pre_2  n_issue_pre_3  \\\n",
       "75    2021-52     10           13.0           33.0           38.0   \n",
       "\n",
       "    n_issue_pre_4  n_issue_pre_5  \n",
       "75           42.0           41.0  "
      ]
     },
     "execution_count": 73,
     "metadata": {},
     "output_type": "execute_result"
    }
   ],
   "source": [
    "df_tf_weekly_issue.tail(1)"
   ]
  },
  {
   "cell_type": "code",
   "execution_count": 74,
   "id": "af5bcff2",
   "metadata": {},
   "outputs": [
    {
     "name": "stdout",
     "output_type": "stream",
     "text": [
      "+-------------+-------------+-------------+-------------+-------------+--------------------+\n",
      "|n_issue_pre_1|n_issue_pre_2|n_issue_pre_3|n_issue_pre_4|n_issue_pre_5|            features|\n",
      "+-------------+-------------+-------------+-------------+-------------+--------------------+\n",
      "|           33|           38|           42|           41|           10|[33.0,38.0,42.0,4...|\n",
      "+-------------+-------------+-------------+-------------+-------------+--------------------+\n",
      "\n"
     ]
    }
   ],
   "source": [
    "df_pred = spark.createDataFrame([(33,38,42,41,10)], [\"n_issue_pre_1\", \"n_issue_pre_2\", \"n_issue_pre_3\", \"n_issue_pre_4\", \"n_issue_pre_5\"])\n",
    "df_pred=vecAssembler.transform(df_pred)\n",
    "df_pred.show()"
   ]
  },
  {
   "cell_type": "code",
   "execution_count": 75,
   "id": "262f24ca",
   "metadata": {},
   "outputs": [
    {
     "name": "stdout",
     "output_type": "stream",
     "text": [
      "+-------------+-------------+-------------+-------------+-------------+--------------------+---------------+\n",
      "|n_issue_pre_1|n_issue_pre_2|n_issue_pre_3|n_issue_pre_4|n_issue_pre_5|            features|  newPrediction|\n",
      "+-------------+-------------+-------------+-------------+-------------+--------------------+---------------+\n",
      "|           33|           38|           42|           41|           10|[33.0,38.0,42.0,4...|38.067064949417|\n",
      "+-------------+-------------+-------------+-------------+-------------+--------------------+---------------+\n",
      "\n"
     ]
    }
   ],
   "source": [
    "model.setPredictionCol(\"newPrediction\")\n",
    "df_pred=model.transform(df_pred)\n",
    "df_pred.show()"
   ]
  },
  {
   "cell_type": "markdown",
   "id": "1c3bbf8a",
   "metadata": {},
   "source": [
    "##### Based on the data and the ols model, the number of issues of the tensoflow project in the coming week is 38"
   ]
  }
 ],
 "metadata": {
  "kernelspec": {
   "display_name": "Python 3.8.13 ('vsc')",
   "language": "python",
   "name": "python3"
  },
  "language_info": {
   "codemirror_mode": {
    "name": "ipython",
    "version": 3
   },
   "file_extension": ".py",
   "mimetype": "text/x-python",
   "name": "python",
   "nbconvert_exporter": "python",
   "pygments_lexer": "ipython3",
   "version": "3.8.13"
  },
  "toc": {
   "base_numbering": 1,
   "nav_menu": {},
   "number_sections": true,
   "sideBar": true,
   "skip_h1_title": false,
   "title_cell": "Table of Contents",
   "title_sidebar": "Contents",
   "toc_cell": false,
   "toc_position": {},
   "toc_section_display": true,
   "toc_window_display": true
  },
  "vscode": {
   "interpreter": {
    "hash": "8f73dfce8eac205e72a0762bbfd4cefa361d835f6b5906d8e30b655c73483a07"
   }
  }
 },
 "nbformat": 4,
 "nbformat_minor": 5
}
